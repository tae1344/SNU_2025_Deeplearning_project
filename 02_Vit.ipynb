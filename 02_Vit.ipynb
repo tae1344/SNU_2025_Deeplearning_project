{
 "cells": [
  {
   "cell_type": "code",
   "execution_count": 1,
   "id": "f9552915",
   "metadata": {},
   "outputs": [
    {
     "name": "stdout",
     "output_type": "stream",
     "text": [
      "한글 폰트 설정 완료 : AppleGothic\n",
      "set_seed 42\n",
      "PyTorch version: 2.8.0\n",
      "CUDA available: False\n",
      "CUDA device count: 0\n",
      "Using device: mps\n"
     ]
    }
   ],
   "source": [
    "import os, math, time\n",
    "import numpy as np\n",
    "import torch\n",
    "import torch.nn as nn\n",
    "import torch.optim as optim\n",
    "from torch.utils.data import Dataset, DataLoader\n",
    "from torchvision import models, transforms\n",
    "from sklearn.metrics import classification_report, confusion_matrix, f1_score\n",
    "from tqdm.auto import tqdm\n",
    "\n",
    "from common.config import (\n",
    "    BASE_DIR,\n",
    "    NUM_CLASSES,\n",
    "    BATCH_SIZE,\n",
    "    EPOCHS,\n",
    "    WARMUP_EPOCHS,\n",
    "    SEED,\n",
    "    BASE_LEARNING_RATE,\n",
    "    WD,\n",
    "    SEED,\n",
    "    DEVICE,\n",
    "    WORKER_NUM,\n",
    "    CLASS_NAMES,\n",
    "    TRANSFORM,\n",
    "    TRAIN_TRANSFORM,\n",
    "    VAL_TRANSFORM,\n",
    "    TRAIN_IMAGE_DIR,\n",
    "    TRAIN_LABEL_DIR,\n",
    "    VAL_IMAGE_DIR,\n",
    "    VAL_LABEL_DIR,\n",
    "    TEST_IMAGE_DIR,\n",
    "    TEST_LABEL_DIR,\n",
    "    LOG_DIR,\n",
    "    TRAIN_LOG_DIR,\n",
    "    TEST_LOG_DIR,\n",
    "    MODEL_DIR,\n",
    "    DROPOUT_RATE,\n",
    ")\n",
    "from common.utils import (\n",
    "    set_seed,\n",
    "    worker_init_fn,\n",
    "    get_mean_std_from_weights,\n",
    "    get_device,\n",
    "    device_pretty,\n",
    "    human_time,\n",
    "    count_parameters,\n",
    "    calculate_top_k_accuracy,\n",
    "    calculate_f1_score,\n",
    "    calculate_auroc,\n",
    "    save_auroc_data,\n",
    "    save_checkpoint,\n",
    ")\n",
    "from common.dataset import CustomDataset\n",
    "from common.logger import Logger\n",
    "from common.evaluate import evaluate_test_set, print_test_results\n",
    "\n",
    "# initail seed 설정\n",
    "set_seed(SEED)\n",
    "\n",
    "# Check PyTorch version and CUDA availability\n",
    "print(f\"PyTorch version: {torch.__version__}\")\n",
    "print(f\"CUDA available: {torch.cuda.is_available()}\")\n",
    "print(f\"CUDA device count: {torch.cuda.device_count()}\")\n",
    "\n",
    "if torch.cuda.is_available():\n",
    "    print(f\"Current CUDA device: {torch.cuda.current_device()}\")\n",
    "    print(f\"CUDA device name: {torch.cuda.get_device_name()}\")\n",
    "\n",
    "# Set device for computations\n",
    "device = torch.device(DEVICE)\n",
    "print(f\"Using device: {device}\")"
   ]
  },
  {
   "cell_type": "code",
   "execution_count": 2,
   "id": "99b23e24",
   "metadata": {},
   "outputs": [
    {
     "name": "stdout",
     "output_type": "stream",
     "text": [
      "CWD: /Users/tykim/Desktop/work/SNU_2025_Deeplearning_project\n",
      "LABEL_DIR: /Users/tykim/Desktop/work/SNU_2025_Deeplearning_project/data/train/라벨링데이터\n",
      "IMAGE_DIR: /Users/tykim/Desktop/work/SNU_2025_Deeplearning_project/data/train/원천데이터\n",
      "LABEL_DIR exists: True\n",
      "IMAGE_DIR exists: True\n",
      "Found json files: 12000\n"
     ]
    }
   ],
   "source": [
    "import os, glob\n",
    "\n",
    "print(\"CWD:\", os.getcwd())\n",
    "print(\"LABEL_DIR:\", TRAIN_LABEL_DIR)\n",
    "print(\"IMAGE_DIR:\", TRAIN_IMAGE_DIR)\n",
    "print(\"LABEL_DIR exists:\", os.path.isdir(TRAIN_LABEL_DIR))\n",
    "print(\"IMAGE_DIR exists:\", os.path.isdir(TRAIN_IMAGE_DIR))\n",
    "\n",
    "json_paths = glob.glob(os.path.join(TRAIN_LABEL_DIR, \"**\", \"*.json\"), recursive=True)\n",
    "print(\"Found json files:\", len(json_paths))"
   ]
  },
  {
   "cell_type": "markdown",
   "id": "f01c06f9",
   "metadata": {},
   "source": [
    "# 1. 데이터 셋 로드\n"
   ]
  },
  {
   "cell_type": "code",
   "execution_count": 3,
   "id": "28182c1b",
   "metadata": {},
   "outputs": [
    {
     "name": "stderr",
     "output_type": "stream",
     "text": [
      "Loading data: 100%|██████████| 12000/12000 [01:21<00:00, 147.37file/s]\n",
      "Loading data: 100%|██████████| 1500/1500 [00:08<00:00, 172.02file/s]\n",
      "Loading data: 100%|██████████| 1500/1500 [00:09<00:00, 164.98file/s]\n"
     ]
    }
   ],
   "source": [
    "# 1) 데이터 증강,변환(색 왜곡은 과하지 않게)\n",
    "MODEL_FILE_NAME = \"best_vit_model.pth\"\n",
    "\n",
    "# MPS에서는 None, 나머지는 generator\n",
    "generator = None if DEVICE == \"mps\" else torch.Generator(device=DEVICE)\n",
    "\n",
    "train_dataset = CustomDataset(\n",
    "    label_folder=TRAIN_LABEL_DIR,\n",
    "    image_folder=TRAIN_IMAGE_DIR,\n",
    "    transform=TRAIN_TRANSFORM,\n",
    ")\n",
    "val_datatset = CustomDataset(\n",
    "    label_folder=VAL_LABEL_DIR, image_folder=VAL_IMAGE_DIR, transform=VAL_TRANSFORM\n",
    ")\n",
    "test_datatset = CustomDataset(\n",
    "    label_folder=TEST_LABEL_DIR, image_folder=TEST_IMAGE_DIR, transform=VAL_TRANSFORM\n",
    ")\n",
    "\n",
    "train_loader = DataLoader(\n",
    "    train_dataset,\n",
    "    batch_size=BATCH_SIZE,\n",
    "    shuffle=True,\n",
    "    num_workers=WORKER_NUM,\n",
    "    generator=generator,\n",
    "    worker_init_fn=worker_init_fn,\n",
    ")\n",
    "val_loader = DataLoader(\n",
    "    val_datatset,\n",
    "    batch_size=BATCH_SIZE,\n",
    "    shuffle=False,\n",
    "    num_workers=WORKER_NUM,\n",
    "    generator=generator,\n",
    ")\n",
    "test_loader = DataLoader(\n",
    "    val_datatset,\n",
    "    batch_size=BATCH_SIZE,\n",
    "    shuffle=False,\n",
    "    num_workers=WORKER_NUM,\n",
    "    generator=generator,\n",
    ")"
   ]
  },
  {
   "cell_type": "markdown",
   "id": "dc9eb413",
   "metadata": {},
   "source": [
    "# 2. 모델 설정 - vit_b_16\n",
    "\n",
    "## 각 모델별로 다르게 설정!!"
   ]
  },
  {
   "cell_type": "code",
   "execution_count": 4,
   "id": "b3c4f39c",
   "metadata": {},
   "outputs": [
    {
     "data": {
      "text/plain": [
       "VisionTransformer(\n",
       "  (conv_proj): Conv2d(3, 768, kernel_size=(16, 16), stride=(16, 16))\n",
       "  (encoder): Encoder(\n",
       "    (dropout): Dropout(p=0.0, inplace=False)\n",
       "    (layers): Sequential(\n",
       "      (encoder_layer_0): EncoderBlock(\n",
       "        (ln_1): LayerNorm((768,), eps=1e-06, elementwise_affine=True)\n",
       "        (self_attention): MultiheadAttention(\n",
       "          (out_proj): NonDynamicallyQuantizableLinear(in_features=768, out_features=768, bias=True)\n",
       "        )\n",
       "        (dropout): Dropout(p=0.0, inplace=False)\n",
       "        (ln_2): LayerNorm((768,), eps=1e-06, elementwise_affine=True)\n",
       "        (mlp): MLPBlock(\n",
       "          (0): Linear(in_features=768, out_features=3072, bias=True)\n",
       "          (1): GELU(approximate='none')\n",
       "          (2): Dropout(p=0.0, inplace=False)\n",
       "          (3): Linear(in_features=3072, out_features=768, bias=True)\n",
       "          (4): Dropout(p=0.0, inplace=False)\n",
       "        )\n",
       "      )\n",
       "      (encoder_layer_1): EncoderBlock(\n",
       "        (ln_1): LayerNorm((768,), eps=1e-06, elementwise_affine=True)\n",
       "        (self_attention): MultiheadAttention(\n",
       "          (out_proj): NonDynamicallyQuantizableLinear(in_features=768, out_features=768, bias=True)\n",
       "        )\n",
       "        (dropout): Dropout(p=0.0, inplace=False)\n",
       "        (ln_2): LayerNorm((768,), eps=1e-06, elementwise_affine=True)\n",
       "        (mlp): MLPBlock(\n",
       "          (0): Linear(in_features=768, out_features=3072, bias=True)\n",
       "          (1): GELU(approximate='none')\n",
       "          (2): Dropout(p=0.0, inplace=False)\n",
       "          (3): Linear(in_features=3072, out_features=768, bias=True)\n",
       "          (4): Dropout(p=0.0, inplace=False)\n",
       "        )\n",
       "      )\n",
       "      (encoder_layer_2): EncoderBlock(\n",
       "        (ln_1): LayerNorm((768,), eps=1e-06, elementwise_affine=True)\n",
       "        (self_attention): MultiheadAttention(\n",
       "          (out_proj): NonDynamicallyQuantizableLinear(in_features=768, out_features=768, bias=True)\n",
       "        )\n",
       "        (dropout): Dropout(p=0.0, inplace=False)\n",
       "        (ln_2): LayerNorm((768,), eps=1e-06, elementwise_affine=True)\n",
       "        (mlp): MLPBlock(\n",
       "          (0): Linear(in_features=768, out_features=3072, bias=True)\n",
       "          (1): GELU(approximate='none')\n",
       "          (2): Dropout(p=0.0, inplace=False)\n",
       "          (3): Linear(in_features=3072, out_features=768, bias=True)\n",
       "          (4): Dropout(p=0.0, inplace=False)\n",
       "        )\n",
       "      )\n",
       "      (encoder_layer_3): EncoderBlock(\n",
       "        (ln_1): LayerNorm((768,), eps=1e-06, elementwise_affine=True)\n",
       "        (self_attention): MultiheadAttention(\n",
       "          (out_proj): NonDynamicallyQuantizableLinear(in_features=768, out_features=768, bias=True)\n",
       "        )\n",
       "        (dropout): Dropout(p=0.0, inplace=False)\n",
       "        (ln_2): LayerNorm((768,), eps=1e-06, elementwise_affine=True)\n",
       "        (mlp): MLPBlock(\n",
       "          (0): Linear(in_features=768, out_features=3072, bias=True)\n",
       "          (1): GELU(approximate='none')\n",
       "          (2): Dropout(p=0.0, inplace=False)\n",
       "          (3): Linear(in_features=3072, out_features=768, bias=True)\n",
       "          (4): Dropout(p=0.0, inplace=False)\n",
       "        )\n",
       "      )\n",
       "      (encoder_layer_4): EncoderBlock(\n",
       "        (ln_1): LayerNorm((768,), eps=1e-06, elementwise_affine=True)\n",
       "        (self_attention): MultiheadAttention(\n",
       "          (out_proj): NonDynamicallyQuantizableLinear(in_features=768, out_features=768, bias=True)\n",
       "        )\n",
       "        (dropout): Dropout(p=0.0, inplace=False)\n",
       "        (ln_2): LayerNorm((768,), eps=1e-06, elementwise_affine=True)\n",
       "        (mlp): MLPBlock(\n",
       "          (0): Linear(in_features=768, out_features=3072, bias=True)\n",
       "          (1): GELU(approximate='none')\n",
       "          (2): Dropout(p=0.0, inplace=False)\n",
       "          (3): Linear(in_features=3072, out_features=768, bias=True)\n",
       "          (4): Dropout(p=0.0, inplace=False)\n",
       "        )\n",
       "      )\n",
       "      (encoder_layer_5): EncoderBlock(\n",
       "        (ln_1): LayerNorm((768,), eps=1e-06, elementwise_affine=True)\n",
       "        (self_attention): MultiheadAttention(\n",
       "          (out_proj): NonDynamicallyQuantizableLinear(in_features=768, out_features=768, bias=True)\n",
       "        )\n",
       "        (dropout): Dropout(p=0.0, inplace=False)\n",
       "        (ln_2): LayerNorm((768,), eps=1e-06, elementwise_affine=True)\n",
       "        (mlp): MLPBlock(\n",
       "          (0): Linear(in_features=768, out_features=3072, bias=True)\n",
       "          (1): GELU(approximate='none')\n",
       "          (2): Dropout(p=0.0, inplace=False)\n",
       "          (3): Linear(in_features=3072, out_features=768, bias=True)\n",
       "          (4): Dropout(p=0.0, inplace=False)\n",
       "        )\n",
       "      )\n",
       "      (encoder_layer_6): EncoderBlock(\n",
       "        (ln_1): LayerNorm((768,), eps=1e-06, elementwise_affine=True)\n",
       "        (self_attention): MultiheadAttention(\n",
       "          (out_proj): NonDynamicallyQuantizableLinear(in_features=768, out_features=768, bias=True)\n",
       "        )\n",
       "        (dropout): Dropout(p=0.0, inplace=False)\n",
       "        (ln_2): LayerNorm((768,), eps=1e-06, elementwise_affine=True)\n",
       "        (mlp): MLPBlock(\n",
       "          (0): Linear(in_features=768, out_features=3072, bias=True)\n",
       "          (1): GELU(approximate='none')\n",
       "          (2): Dropout(p=0.0, inplace=False)\n",
       "          (3): Linear(in_features=3072, out_features=768, bias=True)\n",
       "          (4): Dropout(p=0.0, inplace=False)\n",
       "        )\n",
       "      )\n",
       "      (encoder_layer_7): EncoderBlock(\n",
       "        (ln_1): LayerNorm((768,), eps=1e-06, elementwise_affine=True)\n",
       "        (self_attention): MultiheadAttention(\n",
       "          (out_proj): NonDynamicallyQuantizableLinear(in_features=768, out_features=768, bias=True)\n",
       "        )\n",
       "        (dropout): Dropout(p=0.0, inplace=False)\n",
       "        (ln_2): LayerNorm((768,), eps=1e-06, elementwise_affine=True)\n",
       "        (mlp): MLPBlock(\n",
       "          (0): Linear(in_features=768, out_features=3072, bias=True)\n",
       "          (1): GELU(approximate='none')\n",
       "          (2): Dropout(p=0.0, inplace=False)\n",
       "          (3): Linear(in_features=3072, out_features=768, bias=True)\n",
       "          (4): Dropout(p=0.0, inplace=False)\n",
       "        )\n",
       "      )\n",
       "      (encoder_layer_8): EncoderBlock(\n",
       "        (ln_1): LayerNorm((768,), eps=1e-06, elementwise_affine=True)\n",
       "        (self_attention): MultiheadAttention(\n",
       "          (out_proj): NonDynamicallyQuantizableLinear(in_features=768, out_features=768, bias=True)\n",
       "        )\n",
       "        (dropout): Dropout(p=0.0, inplace=False)\n",
       "        (ln_2): LayerNorm((768,), eps=1e-06, elementwise_affine=True)\n",
       "        (mlp): MLPBlock(\n",
       "          (0): Linear(in_features=768, out_features=3072, bias=True)\n",
       "          (1): GELU(approximate='none')\n",
       "          (2): Dropout(p=0.0, inplace=False)\n",
       "          (3): Linear(in_features=3072, out_features=768, bias=True)\n",
       "          (4): Dropout(p=0.0, inplace=False)\n",
       "        )\n",
       "      )\n",
       "      (encoder_layer_9): EncoderBlock(\n",
       "        (ln_1): LayerNorm((768,), eps=1e-06, elementwise_affine=True)\n",
       "        (self_attention): MultiheadAttention(\n",
       "          (out_proj): NonDynamicallyQuantizableLinear(in_features=768, out_features=768, bias=True)\n",
       "        )\n",
       "        (dropout): Dropout(p=0.0, inplace=False)\n",
       "        (ln_2): LayerNorm((768,), eps=1e-06, elementwise_affine=True)\n",
       "        (mlp): MLPBlock(\n",
       "          (0): Linear(in_features=768, out_features=3072, bias=True)\n",
       "          (1): GELU(approximate='none')\n",
       "          (2): Dropout(p=0.0, inplace=False)\n",
       "          (3): Linear(in_features=3072, out_features=768, bias=True)\n",
       "          (4): Dropout(p=0.0, inplace=False)\n",
       "        )\n",
       "      )\n",
       "      (encoder_layer_10): EncoderBlock(\n",
       "        (ln_1): LayerNorm((768,), eps=1e-06, elementwise_affine=True)\n",
       "        (self_attention): MultiheadAttention(\n",
       "          (out_proj): NonDynamicallyQuantizableLinear(in_features=768, out_features=768, bias=True)\n",
       "        )\n",
       "        (dropout): Dropout(p=0.0, inplace=False)\n",
       "        (ln_2): LayerNorm((768,), eps=1e-06, elementwise_affine=True)\n",
       "        (mlp): MLPBlock(\n",
       "          (0): Linear(in_features=768, out_features=3072, bias=True)\n",
       "          (1): GELU(approximate='none')\n",
       "          (2): Dropout(p=0.0, inplace=False)\n",
       "          (3): Linear(in_features=3072, out_features=768, bias=True)\n",
       "          (4): Dropout(p=0.0, inplace=False)\n",
       "        )\n",
       "      )\n",
       "      (encoder_layer_11): EncoderBlock(\n",
       "        (ln_1): LayerNorm((768,), eps=1e-06, elementwise_affine=True)\n",
       "        (self_attention): MultiheadAttention(\n",
       "          (out_proj): NonDynamicallyQuantizableLinear(in_features=768, out_features=768, bias=True)\n",
       "        )\n",
       "        (dropout): Dropout(p=0.0, inplace=False)\n",
       "        (ln_2): LayerNorm((768,), eps=1e-06, elementwise_affine=True)\n",
       "        (mlp): MLPBlock(\n",
       "          (0): Linear(in_features=768, out_features=3072, bias=True)\n",
       "          (1): GELU(approximate='none')\n",
       "          (2): Dropout(p=0.0, inplace=False)\n",
       "          (3): Linear(in_features=3072, out_features=768, bias=True)\n",
       "          (4): Dropout(p=0.0, inplace=False)\n",
       "        )\n",
       "      )\n",
       "    )\n",
       "    (ln): LayerNorm((768,), eps=1e-06, elementwise_affine=True)\n",
       "  )\n",
       "  (heads): Sequential(\n",
       "    (head): Sequential(\n",
       "      (0): Dropout(p=0.5, inplace=False)\n",
       "      (1): Linear(in_features=768, out_features=15, bias=True)\n",
       "    )\n",
       "  )\n",
       ")"
      ]
     },
     "execution_count": 4,
     "metadata": {},
     "output_type": "execute_result"
    }
   ],
   "source": [
    "# 2) 모델: vit\n",
    "def create_model():\n",
    "    weights = models.ViT_B_16_Weights.IMAGENET1K_V1\n",
    "    model = models.vit_b_16(weights=weights)\n",
    "\n",
    "    # 기존 분류기의 입력 차원 수 가져옴 (768개)\n",
    "    in_feats = model.heads.head.in_features\n",
    "\n",
    "    # 마지막 분류기 교체: 입력 → 출력 선형 변환, 768 → 15개\n",
    "    model.heads.head = nn.Sequential(\n",
    "        nn.Dropout(p=DROPOUT_RATE), nn.Linear(in_feats, NUM_CLASSES)\n",
    "    )\n",
    "    return model.to(device)\n",
    "\n",
    "model = create_model()\n",
    "model"
   ]
  },
  {
   "cell_type": "markdown",
   "id": "5d779399",
   "metadata": {},
   "source": [
    "# 3. Optima, Scheduler, Scaler 설정"
   ]
  },
  {
   "cell_type": "code",
   "execution_count": 5,
   "id": "0c24ae6a",
   "metadata": {},
   "outputs": [
    {
     "name": "stdout",
     "output_type": "stream",
     "text": [
      "⚠️  Mixed Precision Training disabled (CPU mode)\n"
     ]
    }
   ],
   "source": [
    "# 3) 손실/옵티마/스케줄러\n",
    "criterion = nn.CrossEntropyLoss(label_smoothing=0.1)\n",
    "optimizer = torch.optim.AdamW(\n",
    "    filter(lambda p: p.requires_grad, model.parameters()),\n",
    "    lr=BASE_LEARNING_RATE,\n",
    "    weight_decay=WD,\n",
    ")\n",
    "\n",
    "\n",
    "def lr_lambda(current_epoch):\n",
    "    if current_epoch < WARMUP_EPOCHS:\n",
    "        return float(current_epoch + 1) / WARMUP_EPOCHS\n",
    "    # cosine\n",
    "    t = (current_epoch - WARMUP_EPOCHS) / max(1, (EPOCHS - WARMUP_EPOCHS))\n",
    "    return 0.5 * (1 + math.cos(math.pi * t))\n",
    "\n",
    "\n",
    "# 스케쥴러\n",
    "scheduler = torch.optim.lr_scheduler.LambdaLR(optimizer, lr_lambda)\n",
    "\n",
    "# 스케일러\n",
    "# Mixed Precision Training 설정 (GPU에서만 사용)\n",
    "if torch.cuda.is_available():\n",
    "    scaler = torch.amp.GradScaler(\"cuda\")\n",
    "    print(\"✅ Mixed Precision Training enabled (GPU)\")\n",
    "else:\n",
    "    scaler = None\n",
    "    print(\"⚠️  Mixed Precision Training disabled (CPU mode)\")\n",
    "\n",
    "# Logger 설정\n",
    "logger = Logger(LOG_DIR, \"train_log_Vit.json\")"
   ]
  },
  {
   "cell_type": "markdown",
   "id": "ca837a31",
   "metadata": {},
   "source": [
    "# 평가지표 변수 설정"
   ]
  },
  {
   "cell_type": "code",
   "execution_count": 6,
   "id": "4b6605ad",
   "metadata": {},
   "outputs": [
    {
     "name": "stdout",
     "output_type": "stream",
     "text": [
      "Training started at 2025-09-04 12:27:48\n"
     ]
    }
   ],
   "source": [
    "train_losses, val_losses = [], []\n",
    "train_accuracies, val_accuracies = [], []\n",
    "train_top3_accuracies, val_top3_accuracies = [], []\n",
    "train_aurocs, val_aurocs = [], []\n",
    "train_f1_scores, val_f1_scores = [], []\n",
    "\n",
    "best_val_loss = float(\"inf\")\n",
    "best_composite_score = 0.0  # 복합 점수 초기화\n",
    "best_epoch = 0\n",
    "early_stopping_counter = 0\n",
    "patience = 20\n",
    "save_every = 5\n",
    "\n",
    "# 학습 시작 시간\n",
    "total_start_time = time.time()\n",
    "print(\n",
    "    f\"Training started at {time.strftime('%Y-%m-%d %H:%M:%S', time.localtime(total_start_time))}\"\n",
    ")"
   ]
  },
  {
   "cell_type": "markdown",
   "id": "0c68a99d",
   "metadata": {},
   "source": [
    "# 5. 모델 학습 함수 정의"
   ]
  },
  {
   "cell_type": "code",
   "execution_count": 7,
   "id": "244ccb22",
   "metadata": {},
   "outputs": [],
   "source": [
    "def train_one_epoch(\n",
    "    model, train_loader, criterion, optimizer, device, scaler=None, desc=None\n",
    "):\n",
    "    \"\"\"한 에포크 학습\"\"\"\n",
    "    model.train()\n",
    "    epoch_loss = 0.0\n",
    "    epoch_correct = 0\n",
    "    epoch_top3_correct = 0\n",
    "    epoch_total = 0\n",
    "\n",
    "    train_outputs = []\n",
    "    train_labels = []\n",
    "\n",
    "    iterator = train_loader\n",
    "    if desc is not None:\n",
    "        try:\n",
    "            from tqdm.auto import tqdm\n",
    "\n",
    "            iterator = tqdm(train_loader, desc=desc)\n",
    "        except Exception:\n",
    "            iterator = train_loader\n",
    "\n",
    "    for images, labels in iterator:\n",
    "        images, labels = images.to(device), labels.to(device)\n",
    "        optimizer.zero_grad()\n",
    "\n",
    "        if scaler is not None:\n",
    "            with torch.amp.autocast(device_type=\"cuda\", dtype=torch.float16):\n",
    "                outputs = model(images)\n",
    "                loss = criterion(outputs, labels)\n",
    "\n",
    "            scaler.scale(loss).backward()\n",
    "            scaler.step(optimizer)\n",
    "            scaler.update()\n",
    "        else:\n",
    "            outputs = model(images)\n",
    "            loss = criterion(outputs, labels)\n",
    "\n",
    "            loss.backward()\n",
    "            optimizer.step()\n",
    "\n",
    "        epoch_loss += loss.item()\n",
    "        _, preds = torch.max(outputs, 1)\n",
    "        batch_size = labels.size(0)\n",
    "        epoch_total += batch_size\n",
    "        epoch_correct += (preds == labels).sum().item()\n",
    "        epoch_top3_correct += calculate_top_k_accuracy(outputs, labels, k=3)\n",
    "\n",
    "        train_outputs.extend(outputs.detach().cpu().tolist())\n",
    "        train_labels.extend(labels.detach().cpu().tolist())\n",
    "\n",
    "    epoch_loss /= max(1, len(train_loader))\n",
    "    epoch_acc = epoch_correct / max(1, epoch_total)\n",
    "    epoch_top3_acc = epoch_top3_correct / max(1, epoch_total)\n",
    "\n",
    "    return {\n",
    "        \"loss\": epoch_loss,\n",
    "        \"accuracy\": epoch_acc,\n",
    "        \"top3_accuracy\": epoch_top3_acc,\n",
    "        \"outputs\": train_outputs,\n",
    "        \"labels\": train_labels,\n",
    "    }\n",
    "\n",
    "\n",
    "def validation_one_epoch(model, val_loader, criterion, device, desc=None):\n",
    "    \"\"\"한 에포크 검증\"\"\"\n",
    "    model.eval()\n",
    "    val_loss = 0.0\n",
    "    val_correct = 0\n",
    "    val_top3_correct = 0\n",
    "    val_total = 0\n",
    "\n",
    "    val_outputs = []\n",
    "    val_labels = []\n",
    "\n",
    "    iterator = val_loader\n",
    "    if desc is not None:\n",
    "        try:\n",
    "            from tqdm.auto import tqdm\n",
    "\n",
    "            iterator = tqdm(val_loader, desc=desc)\n",
    "        except Exception:\n",
    "            iterator = val_loader\n",
    "\n",
    "    with torch.no_grad():\n",
    "        for images, labels in iterator:\n",
    "            images, labels = images.to(device), labels.to(device)\n",
    "            outputs = model(images)\n",
    "            loss = criterion(outputs, labels)\n",
    "\n",
    "            val_loss += loss.item()\n",
    "            _, preds = torch.max(outputs, 1)\n",
    "            batch_size = labels.size(0)\n",
    "            val_total += batch_size\n",
    "            val_correct += (preds == labels).sum().item()\n",
    "            val_top3_correct += calculate_top_k_accuracy(outputs, labels, k=3)\n",
    "\n",
    "            val_outputs.extend(outputs.detach().cpu().tolist())\n",
    "            val_labels.extend(labels.detach().cpu().tolist())\n",
    "\n",
    "    val_loss /= max(1, len(val_loader))\n",
    "    val_acc = val_correct / max(1, val_total)\n",
    "    val_top3_acc = val_top3_correct / max(1, val_total)\n",
    "\n",
    "    return {\n",
    "        \"loss\": val_loss,\n",
    "        \"accuracy\": val_acc,\n",
    "        \"top3_accuracy\": val_top3_acc,\n",
    "        \"outputs\": val_outputs,\n",
    "        \"labels\": val_labels,\n",
    "    }"
   ]
  },
  {
   "cell_type": "markdown",
   "id": "9c212e86",
   "metadata": {},
   "source": [
    "# 6. 모델 훈련"
   ]
  },
  {
   "cell_type": "code",
   "execution_count": 8,
   "id": "67e58551",
   "metadata": {},
   "outputs": [
    {
     "data": {
      "application/vnd.jupyter.widget-view+json": {
       "model_id": "c7d90b1b73344b18b8621fe54ff06ada",
       "version_major": 2,
       "version_minor": 0
      },
      "text/plain": [
       "Training Epoch 1/10:   0%|          | 0/375 [00:00<?, ?it/s]"
      ]
     },
     "metadata": {},
     "output_type": "display_data"
    },
    {
     "name": "stdout",
     "output_type": "stream",
     "text": [
      "AUROC data saved for train at epoch 1 to /Users/tykim/Desktop/work/SNU_2025_Deeplearning_project/logs/train_logs/train_auroc_data_epoch_1.json\n"
     ]
    },
    {
     "data": {
      "application/vnd.jupyter.widget-view+json": {
       "model_id": "40ac3a8a93fe4453be7709732d6df699",
       "version_major": 2,
       "version_minor": 0
      },
      "text/plain": [
       "Validating:   0%|          | 0/47 [00:00<?, ?it/s]"
      ]
     },
     "metadata": {},
     "output_type": "display_data"
    },
    {
     "name": "stdout",
     "output_type": "stream",
     "text": [
      "AUROC data saved for val at epoch 1 to /Users/tykim/Desktop/work/SNU_2025_Deeplearning_project/logs/train_logs/val_auroc_data_epoch_1.json\n",
      "[Epoch 1/10] Time: 630.62s, Train Loss: 1.5735, Train Acc: 0.5722, Train Top-3: 0.8206, Train F1: 0.5700, Val Loss: 1.0043, Val Acc: 0.8260, Val Top-3: 0.9600, Val F1: 0.8176\n",
      "Checkpoint saved at /Users/tykim/Desktop/work/SNU_2025_Deeplearning_project/model/best_vit_model.pth\n",
      "🎯 New best model saved! Composite Score: 0.7905\n",
      "{\n",
      "    \"epoch\": 1,\n",
      "    \"train_loss\": 1.5734744628270467,\n",
      "    \"train_accuracy\": 0.5721666666666667,\n",
      "    \"train_top3_accuracy\": 0.8205833333333333,\n",
      "    \"train_f1_score\": 0.5700037437238024,\n",
      "    \"train_auroc\": 0.9096913095238095,\n",
      "    \"val_loss\": 1.0043428895321298,\n",
      "    \"val_accuracy\": 0.826,\n",
      "    \"val_top3_accuracy\": 0.96,\n",
      "    \"val_f1_score\": 0.8175749342162802,\n",
      "    \"val_auroc\": 0.9902304761904762,\n",
      "    \"composite_score\": 0.7905498407471859,\n",
      "    \"epoch_duration\": 630.6186640262604,\n",
      "    \"timestamp\": \"2025-09-04 12:38:20.317128\"\n",
      "}\n"
     ]
    },
    {
     "data": {
      "application/vnd.jupyter.widget-view+json": {
       "model_id": "bb2e3031999c42e6aa88f1abe6aec32e",
       "version_major": 2,
       "version_minor": 0
      },
      "text/plain": [
       "Training Epoch 2/10:   0%|          | 0/375 [00:00<?, ?it/s]"
      ]
     },
     "metadata": {},
     "output_type": "display_data"
    },
    {
     "name": "stdout",
     "output_type": "stream",
     "text": [
      "AUROC data saved for train at epoch 2 to /Users/tykim/Desktop/work/SNU_2025_Deeplearning_project/logs/train_logs/train_auroc_data_epoch_2.json\n"
     ]
    },
    {
     "data": {
      "application/vnd.jupyter.widget-view+json": {
       "model_id": "d7bc4a570ba7426b98d5c6a5ce49d370",
       "version_major": 2,
       "version_minor": 0
      },
      "text/plain": [
       "Validating:   0%|          | 0/47 [00:00<?, ?it/s]"
      ]
     },
     "metadata": {},
     "output_type": "display_data"
    },
    {
     "name": "stdout",
     "output_type": "stream",
     "text": [
      "AUROC data saved for val at epoch 2 to /Users/tykim/Desktop/work/SNU_2025_Deeplearning_project/logs/train_logs/val_auroc_data_epoch_2.json\n",
      "[Epoch 2/10] Time: 677.63s, Train Loss: 0.9730, Train Acc: 0.8438, Train Top-3: 0.9691, Train F1: 0.8433, Val Loss: 0.7707, Val Acc: 0.9187, Val Top-3: 0.9927, Val F1: 0.9175\n",
      "Checkpoint saved at /Users/tykim/Desktop/work/SNU_2025_Deeplearning_project/model/best_vit_model.pth\n",
      "🎯 New best model saved! Composite Score: 0.8730\n",
      "{\n",
      "    \"epoch\": 2,\n",
      "    \"train_loss\": 0.9730384302139282,\n",
      "    \"train_accuracy\": 0.84375,\n",
      "    \"train_top3_accuracy\": 0.9690833333333333,\n",
      "    \"train_f1_score\": 0.8432974497742135,\n",
      "    \"train_auroc\": 0.9836850930059525,\n",
      "    \"val_loss\": 0.7706742185227414,\n",
      "    \"val_accuracy\": 0.9186666666666666,\n",
      "    \"val_top3_accuracy\": 0.9926666666666667,\n",
      "    \"val_f1_score\": 0.9174923944560657,\n",
      "    \"val_auroc\": 0.9968738095238096,\n",
      "    \"composite_score\": 0.8729598665627486,\n",
      "    \"epoch_duration\": 677.633955001831,\n",
      "    \"timestamp\": \"2025-09-04 12:49:40.537787\"\n",
      "}\n"
     ]
    },
    {
     "data": {
      "application/vnd.jupyter.widget-view+json": {
       "model_id": "fa7f5d3be23944fe8c36c7cc210ecf27",
       "version_major": 2,
       "version_minor": 0
      },
      "text/plain": [
       "Training Epoch 3/10:   0%|          | 0/375 [00:00<?, ?it/s]"
      ]
     },
     "metadata": {},
     "output_type": "display_data"
    },
    {
     "name": "stdout",
     "output_type": "stream",
     "text": [
      "AUROC data saved for train at epoch 3 to /Users/tykim/Desktop/work/SNU_2025_Deeplearning_project/logs/train_logs/train_auroc_data_epoch_3.json\n"
     ]
    },
    {
     "data": {
      "application/vnd.jupyter.widget-view+json": {
       "model_id": "8b3105590ab643709e111bbd2e6ba257",
       "version_major": 2,
       "version_minor": 0
      },
      "text/plain": [
       "Validating:   0%|          | 0/47 [00:00<?, ?it/s]"
      ]
     },
     "metadata": {},
     "output_type": "display_data"
    },
    {
     "name": "stdout",
     "output_type": "stream",
     "text": [
      "AUROC data saved for val at epoch 3 to /Users/tykim/Desktop/work/SNU_2025_Deeplearning_project/logs/train_logs/val_auroc_data_epoch_3.json\n",
      "[Epoch 3/10] Time: 651.35s, Train Loss: 0.8694, Train Acc: 0.8841, Train Top-3: 0.9794, Train F1: 0.8840, Val Loss: 0.7721, Val Acc: 0.9193, Val Top-3: 0.9933, Val F1: 0.9210\n",
      "Checkpoint saved at /Users/tykim/Desktop/work/SNU_2025_Deeplearning_project/model/best_vit_model.pth\n",
      "🎯 New best model saved! Composite Score: 0.8741\n",
      "{\n",
      "    \"epoch\": 3,\n",
      "    \"train_loss\": 0.8693847427368164,\n",
      "    \"train_accuracy\": 0.8840833333333333,\n",
      "    \"train_top3_accuracy\": 0.9794166666666667,\n",
      "    \"train_f1_score\": 0.8840499531996335,\n",
      "    \"train_auroc\": 0.9897504427083333,\n",
      "    \"val_loss\": 0.7720744064513673,\n",
      "    \"val_accuracy\": 0.9193333333333333,\n",
      "    \"val_top3_accuracy\": 0.9933333333333333,\n",
      "    \"val_f1_score\": 0.9209715972767825,\n",
      "    \"val_auroc\": 0.9977685714285714,\n",
      "    \"composite_score\": 0.8740507835721245,\n",
      "    \"epoch_duration\": 651.3542861938477,\n",
      "    \"timestamp\": \"2025-09-04 13:00:34.471421\"\n",
      "}\n"
     ]
    },
    {
     "data": {
      "application/vnd.jupyter.widget-view+json": {
       "model_id": "201db83b0fc349fda2a00c679b4d2e4b",
       "version_major": 2,
       "version_minor": 0
      },
      "text/plain": [
       "Training Epoch 4/10:   0%|          | 0/375 [00:00<?, ?it/s]"
      ]
     },
     "metadata": {},
     "output_type": "display_data"
    },
    {
     "name": "stdout",
     "output_type": "stream",
     "text": [
      "AUROC data saved for train at epoch 4 to /Users/tykim/Desktop/work/SNU_2025_Deeplearning_project/logs/train_logs/train_auroc_data_epoch_4.json\n"
     ]
    },
    {
     "data": {
      "application/vnd.jupyter.widget-view+json": {
       "model_id": "11519e179687438cbba76346fe0c927c",
       "version_major": 2,
       "version_minor": 0
      },
      "text/plain": [
       "Validating:   0%|          | 0/47 [00:00<?, ?it/s]"
      ]
     },
     "metadata": {},
     "output_type": "display_data"
    },
    {
     "name": "stdout",
     "output_type": "stream",
     "text": [
      "AUROC data saved for val at epoch 4 to /Users/tykim/Desktop/work/SNU_2025_Deeplearning_project/logs/train_logs/val_auroc_data_epoch_4.json\n",
      "[Epoch 4/10] Time: 651.51s, Train Loss: 0.8582, Train Acc: 0.8836, Train Top-3: 0.9797, Train F1: 0.8836, Val Loss: 0.6871, Val Acc: 0.9547, Val Top-3: 0.9947, Val F1: 0.9544\n",
      "Checkpoint saved at /Users/tykim/Desktop/work/SNU_2025_Deeplearning_project/model/best_vit_model.pth\n",
      "🎯 New best model saved! Composite Score: 0.9037\n",
      "{\n",
      "    \"epoch\": 4,\n",
      "    \"train_loss\": 0.8582295749982198,\n",
      "    \"train_accuracy\": 0.8835833333333334,\n",
      "    \"train_top3_accuracy\": 0.9796666666666667,\n",
      "    \"train_f1_score\": 0.8835588494985356,\n",
      "    \"train_auroc\": 0.9906766741071429,\n",
      "    \"val_loss\": 0.6870926402984782,\n",
      "    \"val_accuracy\": 0.9546666666666667,\n",
      "    \"val_top3_accuracy\": 0.9946666666666667,\n",
      "    \"val_f1_score\": 0.9544481426252874,\n",
      "    \"val_auroc\": 0.99879,\n",
      "    \"composite_score\": 0.9036840311618765,\n",
      "    \"epoch_duration\": 651.5127832889557,\n",
      "    \"timestamp\": \"2025-09-04 13:11:28.487904\"\n",
      "}\n"
     ]
    },
    {
     "data": {
      "application/vnd.jupyter.widget-view+json": {
       "model_id": "7c4900e2e70e4b5f9d70a1cb1622817b",
       "version_major": 2,
       "version_minor": 0
      },
      "text/plain": [
       "Training Epoch 5/10:   0%|          | 0/375 [00:00<?, ?it/s]"
      ]
     },
     "metadata": {},
     "output_type": "display_data"
    },
    {
     "name": "stdout",
     "output_type": "stream",
     "text": [
      "AUROC data saved for train at epoch 5 to /Users/tykim/Desktop/work/SNU_2025_Deeplearning_project/logs/train_logs/train_auroc_data_epoch_5.json\n"
     ]
    },
    {
     "data": {
      "application/vnd.jupyter.widget-view+json": {
       "model_id": "a577c366625e402da46e5b01a70b1958",
       "version_major": 2,
       "version_minor": 0
      },
      "text/plain": [
       "Validating:   0%|          | 0/47 [00:00<?, ?it/s]"
      ]
     },
     "metadata": {},
     "output_type": "display_data"
    },
    {
     "name": "stdout",
     "output_type": "stream",
     "text": [
      "AUROC data saved for val at epoch 5 to /Users/tykim/Desktop/work/SNU_2025_Deeplearning_project/logs/train_logs/val_auroc_data_epoch_5.json\n",
      "[Epoch 5/10] Time: 651.19s, Train Loss: 0.8604, Train Acc: 0.8842, Train Top-3: 0.9750, Train F1: 0.8842, Val Loss: 0.7042, Val Acc: 0.9440, Val Top-3: 0.9940, Val F1: 0.9435\n",
      "{\n",
      "    \"epoch\": 5,\n",
      "    \"train_loss\": 0.8604047834078471,\n",
      "    \"train_accuracy\": 0.8841666666666667,\n",
      "    \"train_top3_accuracy\": 0.975,\n",
      "    \"train_f1_score\": 0.8842186478391585,\n",
      "    \"train_auroc\": 0.9884389955357143,\n",
      "    \"val_loss\": 0.7042117778291094,\n",
      "    \"val_accuracy\": 0.944,\n",
      "    \"val_top3_accuracy\": 0.994,\n",
      "    \"val_f1_score\": 0.9435465155531495,\n",
      "    \"val_auroc\": 0.99836,\n",
      "    \"composite_score\": 0.8953961253277191,\n",
      "    \"epoch_duration\": 651.1851739883423,\n",
      "    \"timestamp\": \"2025-09-04 13:22:19.673312\"\n",
      "}\n"
     ]
    },
    {
     "data": {
      "application/vnd.jupyter.widget-view+json": {
       "model_id": "c66b26a1dc254eaba9b8b86ac5704319",
       "version_major": 2,
       "version_minor": 0
      },
      "text/plain": [
       "Training Epoch 6/10:   0%|          | 0/375 [00:00<?, ?it/s]"
      ]
     },
     "metadata": {},
     "output_type": "display_data"
    },
    {
     "name": "stdout",
     "output_type": "stream",
     "text": [
      "AUROC data saved for train at epoch 6 to /Users/tykim/Desktop/work/SNU_2025_Deeplearning_project/logs/train_logs/train_auroc_data_epoch_6.json\n"
     ]
    },
    {
     "data": {
      "application/vnd.jupyter.widget-view+json": {
       "model_id": "29a621e17cf3471f8ba988307e5c1696",
       "version_major": 2,
       "version_minor": 0
      },
      "text/plain": [
       "Validating:   0%|          | 0/47 [00:00<?, ?it/s]"
      ]
     },
     "metadata": {},
     "output_type": "display_data"
    },
    {
     "name": "stdout",
     "output_type": "stream",
     "text": [
      "AUROC data saved for val at epoch 6 to /Users/tykim/Desktop/work/SNU_2025_Deeplearning_project/logs/train_logs/val_auroc_data_epoch_6.json\n",
      "[Epoch 6/10] Time: 651.75s, Train Loss: 0.7353, Train Acc: 0.9328, Train Top-3: 0.9898, Train F1: 0.9328, Val Loss: 0.6708, Val Acc: 0.9567, Val Top-3: 0.9967, Val F1: 0.9570\n",
      "Checkpoint saved at /Users/tykim/Desktop/work/SNU_2025_Deeplearning_project/model/best_vit_model.pth\n",
      "🎯 New best model saved! Composite Score: 0.9067\n",
      "{\n",
      "    \"epoch\": 6,\n",
      "    \"train_loss\": 0.7352702751159668,\n",
      "    \"train_accuracy\": 0.9328333333333333,\n",
      "    \"train_top3_accuracy\": 0.98975,\n",
      "    \"train_f1_score\": 0.9328237238544673,\n",
      "    \"train_auroc\": 0.9962398660714286,\n",
      "    \"val_loss\": 0.6707823847202544,\n",
      "    \"val_accuracy\": 0.9566666666666667,\n",
      "    \"val_top3_accuracy\": 0.9966666666666667,\n",
      "    \"val_f1_score\": 0.956953552305274,\n",
      "    \"val_auroc\": 0.9990142857142856,\n",
      "    \"composite_score\": 0.9066834243699818,\n",
      "    \"epoch_duration\": 651.7533600330353,\n",
      "    \"timestamp\": \"2025-09-04 13:33:13.890491\"\n",
      "}\n"
     ]
    },
    {
     "data": {
      "application/vnd.jupyter.widget-view+json": {
       "model_id": "a4f90114db484c9eb5a73394e2873b2f",
       "version_major": 2,
       "version_minor": 0
      },
      "text/plain": [
       "Training Epoch 7/10:   0%|          | 0/375 [00:00<?, ?it/s]"
      ]
     },
     "metadata": {},
     "output_type": "display_data"
    },
    {
     "name": "stdout",
     "output_type": "stream",
     "text": [
      "AUROC data saved for train at epoch 7 to /Users/tykim/Desktop/work/SNU_2025_Deeplearning_project/logs/train_logs/train_auroc_data_epoch_7.json\n"
     ]
    },
    {
     "data": {
      "application/vnd.jupyter.widget-view+json": {
       "model_id": "7cd48949491c4d52aca3df8ffcd9d145",
       "version_major": 2,
       "version_minor": 0
      },
      "text/plain": [
       "Validating:   0%|          | 0/47 [00:00<?, ?it/s]"
      ]
     },
     "metadata": {},
     "output_type": "display_data"
    },
    {
     "name": "stdout",
     "output_type": "stream",
     "text": [
      "AUROC data saved for val at epoch 7 to /Users/tykim/Desktop/work/SNU_2025_Deeplearning_project/logs/train_logs/val_auroc_data_epoch_7.json\n",
      "[Epoch 7/10] Time: 653.09s, Train Loss: 0.6969, Train Acc: 0.9485, Train Top-3: 0.9931, Train F1: 0.9485, Val Loss: 0.6444, Val Acc: 0.9680, Val Top-3: 0.9973, Val F1: 0.9679\n",
      "Checkpoint saved at /Users/tykim/Desktop/work/SNU_2025_Deeplearning_project/model/best_vit_model.pth\n",
      "🎯 New best model saved! Composite Score: 0.9161\n",
      "{\n",
      "    \"epoch\": 7,\n",
      "    \"train_loss\": 0.6969472599029541,\n",
      "    \"train_accuracy\": 0.9485,\n",
      "    \"train_top3_accuracy\": 0.9930833333333333,\n",
      "    \"train_f1_score\": 0.9484888929838002,\n",
      "    \"train_auroc\": 0.9976117931547619,\n",
      "    \"val_loss\": 0.6444088385460225,\n",
      "    \"val_accuracy\": 0.968,\n",
      "    \"val_top3_accuracy\": 0.9973333333333333,\n",
      "    \"val_f1_score\": 0.9678924492728158,\n",
      "    \"val_auroc\": 0.9992219047619049,\n",
      "    \"composite_score\": 0.9161041774285323,\n",
      "    \"epoch_duration\": 653.0945460796356,\n",
      "    \"timestamp\": \"2025-09-04 13:44:09.039281\"\n",
      "}\n"
     ]
    },
    {
     "data": {
      "application/vnd.jupyter.widget-view+json": {
       "model_id": "896d809f3f9e4b128ce469cccc64293e",
       "version_major": 2,
       "version_minor": 0
      },
      "text/plain": [
       "Training Epoch 8/10:   0%|          | 0/375 [00:00<?, ?it/s]"
      ]
     },
     "metadata": {},
     "output_type": "display_data"
    },
    {
     "name": "stdout",
     "output_type": "stream",
     "text": [
      "AUROC data saved for train at epoch 8 to /Users/tykim/Desktop/work/SNU_2025_Deeplearning_project/logs/train_logs/train_auroc_data_epoch_8.json\n"
     ]
    },
    {
     "data": {
      "application/vnd.jupyter.widget-view+json": {
       "model_id": "15d9064bd2954f06bc99782e01110c66",
       "version_major": 2,
       "version_minor": 0
      },
      "text/plain": [
       "Validating:   0%|          | 0/47 [00:00<?, ?it/s]"
      ]
     },
     "metadata": {},
     "output_type": "display_data"
    },
    {
     "name": "stdout",
     "output_type": "stream",
     "text": [
      "AUROC data saved for val at epoch 8 to /Users/tykim/Desktop/work/SNU_2025_Deeplearning_project/logs/train_logs/val_auroc_data_epoch_8.json\n",
      "[Epoch 8/10] Time: 648.83s, Train Loss: 0.6543, Train Acc: 0.9663, Train Top-3: 0.9954, Train F1: 0.9664, Val Loss: 0.6300, Val Acc: 0.9740, Val Top-3: 0.9973, Val F1: 0.9739\n",
      "Checkpoint saved at /Users/tykim/Desktop/work/SNU_2025_Deeplearning_project/model/best_vit_model.pth\n",
      "🎯 New best model saved! Composite Score: 0.9211\n",
      "{\n",
      "    \"epoch\": 8,\n",
      "    \"train_loss\": 0.6543462595939636,\n",
      "    \"train_accuracy\": 0.9663333333333334,\n",
      "    \"train_top3_accuracy\": 0.9954166666666666,\n",
      "    \"train_f1_score\": 0.9663906540101146,\n",
      "    \"train_auroc\": 0.9987760267857142,\n",
      "    \"val_loss\": 0.62999956024454,\n",
      "    \"val_accuracy\": 0.974,\n",
      "    \"val_top3_accuracy\": 0.9973333333333333,\n",
      "    \"val_f1_score\": 0.9739496627160771,\n",
      "    \"val_auroc\": 0.9991909523809525,\n",
      "    \"composite_score\": 0.9211472622330472,\n",
      "    \"epoch_duration\": 648.8306531906128,\n",
      "    \"timestamp\": \"2025-09-04 13:55:00.610617\"\n",
      "}\n"
     ]
    },
    {
     "data": {
      "application/vnd.jupyter.widget-view+json": {
       "model_id": "f679cd3816634fc5852da628e6151348",
       "version_major": 2,
       "version_minor": 0
      },
      "text/plain": [
       "Training Epoch 9/10:   0%|          | 0/375 [00:00<?, ?it/s]"
      ]
     },
     "metadata": {},
     "output_type": "display_data"
    },
    {
     "name": "stdout",
     "output_type": "stream",
     "text": [
      "AUROC data saved for train at epoch 9 to /Users/tykim/Desktop/work/SNU_2025_Deeplearning_project/logs/train_logs/train_auroc_data_epoch_9.json\n"
     ]
    },
    {
     "data": {
      "application/vnd.jupyter.widget-view+json": {
       "model_id": "e2171a39768242ec85a598b2d5701043",
       "version_major": 2,
       "version_minor": 0
      },
      "text/plain": [
       "Validating:   0%|          | 0/47 [00:00<?, ?it/s]"
      ]
     },
     "metadata": {},
     "output_type": "display_data"
    },
    {
     "name": "stdout",
     "output_type": "stream",
     "text": [
      "AUROC data saved for val at epoch 9 to /Users/tykim/Desktop/work/SNU_2025_Deeplearning_project/logs/train_logs/val_auroc_data_epoch_9.json\n",
      "[Epoch 9/10] Time: 665.38s, Train Loss: 0.6243, Train Acc: 0.9805, Train Top-3: 0.9968, Train F1: 0.9805, Val Loss: 0.6263, Val Acc: 0.9767, Val Top-3: 0.9973, Val F1: 0.9767\n",
      "Checkpoint saved at /Users/tykim/Desktop/work/SNU_2025_Deeplearning_project/model/best_vit_model.pth\n",
      "🎯 New best model saved! Composite Score: 0.9231\n",
      "{\n",
      "    \"epoch\": 9,\n",
      "    \"train_loss\": 0.6242511626879375,\n",
      "    \"train_accuracy\": 0.9805,\n",
      "    \"train_top3_accuracy\": 0.9968333333333333,\n",
      "    \"train_f1_score\": 0.9805205087844733,\n",
      "    \"train_auroc\": 0.99916359375,\n",
      "    \"val_loss\": 0.6262575032863211,\n",
      "    \"val_accuracy\": 0.9766666666666667,\n",
      "    \"val_top3_accuracy\": 0.9973333333333333,\n",
      "    \"val_f1_score\": 0.976693902948443,\n",
      "    \"val_auroc\": 0.9989199999999998,\n",
      "    \"composite_score\": 0.9230556969277232,\n",
      "    \"epoch_duration\": 665.3823189735413,\n",
      "    \"timestamp\": \"2025-09-04 14:06:08.297777\"\n",
      "}\n"
     ]
    },
    {
     "data": {
      "application/vnd.jupyter.widget-view+json": {
       "model_id": "29b43bdeb9f14033b912e4aa61032e15",
       "version_major": 2,
       "version_minor": 0
      },
      "text/plain": [
       "Training Epoch 10/10:   0%|          | 0/375 [00:00<?, ?it/s]"
      ]
     },
     "metadata": {},
     "output_type": "display_data"
    },
    {
     "name": "stdout",
     "output_type": "stream",
     "text": [
      "AUROC data saved for train at epoch 10 to /Users/tykim/Desktop/work/SNU_2025_Deeplearning_project/logs/train_logs/train_auroc_data_epoch_10.json\n"
     ]
    },
    {
     "data": {
      "application/vnd.jupyter.widget-view+json": {
       "model_id": "15ad5cc151c645dd8a15903912fd6f2c",
       "version_major": 2,
       "version_minor": 0
      },
      "text/plain": [
       "Validating:   0%|          | 0/47 [00:00<?, ?it/s]"
      ]
     },
     "metadata": {},
     "output_type": "display_data"
    },
    {
     "name": "stdout",
     "output_type": "stream",
     "text": [
      "AUROC data saved for val at epoch 10 to /Users/tykim/Desktop/work/SNU_2025_Deeplearning_project/logs/train_logs/val_auroc_data_epoch_10.json\n",
      "[Epoch 10/10] Time: 627.91s, Train Loss: 0.6071, Train Acc: 0.9866, Train Top-3: 0.9980, Train F1: 0.9866, Val Loss: 0.6166, Val Acc: 0.9773, Val Top-3: 0.9980, Val F1: 0.9773\n",
      "Checkpoint saved at /Users/tykim/Desktop/work/SNU_2025_Deeplearning_project/model/best_vit_model.pth\n",
      "🎯 New best model saved! Composite Score: 0.9244\n",
      "{\n",
      "    \"epoch\": 10,\n",
      "    \"train_loss\": 0.6070632427533468,\n",
      "    \"train_accuracy\": 0.9865833333333334,\n",
      "    \"train_top3_accuracy\": 0.998,\n",
      "    \"train_f1_score\": 0.9866028510805446,\n",
      "    \"train_auroc\": 0.9996474999999999,\n",
      "    \"val_loss\": 0.6166147779911122,\n",
      "    \"val_accuracy\": 0.9773333333333334,\n",
      "    \"val_top3_accuracy\": 0.998,\n",
      "    \"val_f1_score\": 0.9773056664200385,\n",
      "    \"val_auroc\": 0.9989071428571428,\n",
      "    \"composite_score\": 0.9244051316753726,\n",
      "    \"epoch_duration\": 627.9115259647369,\n",
      "    \"timestamp\": \"2025-09-04 14:16:40.421891\"\n",
      "}\n"
     ]
    }
   ],
   "source": [
    "for epoch in range(EPOCHS):\n",
    "    start_time = time.time()  # 에포크 시작 시간 기록\n",
    "\n",
    "    # ===============================================\n",
    "    # Training\n",
    "    # ===============================================\n",
    "    train_metrics = train_one_epoch(\n",
    "        model=model,\n",
    "        train_loader=train_loader,\n",
    "        criterion=criterion,\n",
    "        optimizer=optimizer,\n",
    "        device=device,\n",
    "        scaler=scaler,\n",
    "        desc=f\"Training Epoch {epoch+1}/{EPOCHS}\",\n",
    "    )\n",
    "\n",
    "    train_losses.append(train_metrics[\"loss\"])\n",
    "    train_accuracies.append(train_metrics[\"accuracy\"])\n",
    "    train_top3_accuracies.append(train_metrics[\"top3_accuracy\"])\n",
    "    train_f1_scores.append(\n",
    "        calculate_f1_score(\n",
    "            torch.tensor(train_metrics[\"outputs\"]),\n",
    "            torch.tensor(train_metrics[\"labels\"]),\n",
    "        )\n",
    "    )\n",
    "    train_aurocs.append(\n",
    "        calculate_auroc(\n",
    "            torch.tensor(train_metrics[\"outputs\"]),\n",
    "            torch.tensor(train_metrics[\"labels\"]),\n",
    "        )\n",
    "    )\n",
    "    save_auroc_data(\n",
    "        train_metrics[\"outputs\"],\n",
    "        train_metrics[\"labels\"],\n",
    "        epoch + 1,\n",
    "        \"train\",\n",
    "        TRAIN_LOG_DIR,\n",
    "    )\n",
    "\n",
    "    # ===============================================\n",
    "    # Validation\n",
    "    # ===============================================\n",
    "    val_metrics = validation_one_epoch(\n",
    "        model=model,\n",
    "        val_loader=val_loader,\n",
    "        criterion=criterion,\n",
    "        device=device,\n",
    "        desc=\"Validating\",\n",
    "    )\n",
    "\n",
    "    val_losses.append(val_metrics[\"loss\"])\n",
    "    val_accuracies.append(val_metrics[\"accuracy\"])\n",
    "    val_top3_accuracies.append(val_metrics[\"top3_accuracy\"])\n",
    "    val_f1_scores.append(\n",
    "        calculate_f1_score(torch.tensor(val_metrics[\"outputs\"]), torch.tensor(val_metrics[\"labels\"]))\n",
    "    )\n",
    "    val_aurocs.append(\n",
    "        calculate_auroc(torch.tensor(val_metrics[\"outputs\"]), torch.tensor(val_metrics[\"labels\"]))\n",
    "    )\n",
    "    save_auroc_data(val_metrics[\"outputs\"], val_metrics[\"labels\"], epoch + 1, \"val\", TRAIN_LOG_DIR)\n",
    "\n",
    "    # Scheduler\n",
    "    scheduler.step()  # ReduceLROnPlateau 사용 시: scheduler.step(val_metrics[\"loss\"])\n",
    "\n",
    "    # 에포크 소요 시간 계산\n",
    "    end_time = time.time()\n",
    "    epoch_duration = end_time - start_time\n",
    "\n",
    "    # 에포크 결과 출력\n",
    "    print(\n",
    "        f\"[Epoch {epoch+1}/{EPOCHS}] \"\n",
    "        f\"Time: {epoch_duration:.2f}s, \"\n",
    "        f\"Train Loss: {train_losses[-1]:.4f}, Train Acc: {train_accuracies[-1]:.4f}, Train Top-3: {train_top3_accuracies[-1]:.4f}, Train F1: {train_f1_scores[-1]:.4f}, \"\n",
    "        f\"Val Loss: {val_losses[-1]:.4f}, Val Acc: {val_accuracies[-1]:.4f}, Val Top-3: {val_top3_accuracies[-1]:.4f}, Val F1: {val_f1_scores[-1]:.4f}\"\n",
    "    )\n",
    "\n",
    "    # 의료 이미지 분류에 최적화된 복합 점수 계산\n",
    "    composite_score = (\n",
    "        0.4 * val_accuracies[-1] +      # 40% - 정확도 (가장 중요)\n",
    "        0.3 * val_aurocs[-1] +          # 30% - AUROC (의료 분류에서 중요)\n",
    "        0.2 * val_f1_scores[-1] +       # 20% - F1 Score (클래스 불균형 고려)\n",
    "        0.1 * (1 - val_losses[-1])      # 10% - Loss (낮을수록 좋음)\n",
    "    )\n",
    "\n",
    "    # 최고 성능 모델 저장\n",
    "    if composite_score > best_composite_score:\n",
    "        best_composite_score = composite_score\n",
    "        best_epoch = epoch + 1\n",
    "        early_stopping_counter = 0\n",
    "        save_checkpoint(\n",
    "            {\n",
    "                \"epoch\": epoch + 1,  # 현재 에포크\n",
    "                \"state_dict\": model.state_dict(),\n",
    "                \"optimizer_state_dict\": optimizer.state_dict(),\n",
    "                \"train_loss\": train_losses[-1],\n",
    "                \"train_accuracy\": train_accuracies[-1],\n",
    "                \"train_top3_accuracy\": train_top3_accuracies[-1],\n",
    "                \"train_f1_score\": train_f1_scores[-1],\n",
    "                \"train_auroc\": train_aurocs[-1],\n",
    "                \"val_loss\": val_losses[-1],\n",
    "                \"val_accuracy\": val_accuracies[-1],\n",
    "                \"val_top3_accuracy\": val_top3_accuracies[-1],\n",
    "                \"val_f1_score\": val_f1_scores[-1],\n",
    "                \"val_auroc\": val_aurocs[-1],\n",
    "                \"composite_score\": composite_score,\n",
    "                \"epoch_duration\": epoch_duration,\n",
    "            },\n",
    "            MODEL_DIR,\n",
    "            MODEL_FILE_NAME,\n",
    "        )\n",
    "        print(f\"🎯 New best model saved! Composite Score: {composite_score:.4f}\")\n",
    "    else:\n",
    "        early_stopping_counter += 1\n",
    "\n",
    "    if early_stopping_counter >= patience:\n",
    "        print(f\"Early stopping at epoch {epoch+1}. Best epoch was {best_epoch}.\")\n",
    "        break\n",
    "\n",
    "    # 로그 기록\n",
    "    logger.log(\n",
    "        {\n",
    "            \"epoch\": epoch + 1,\n",
    "            \"train_loss\": train_losses[-1],\n",
    "            \"train_accuracy\": train_accuracies[-1],\n",
    "            \"train_top3_accuracy\": train_top3_accuracies[-1],\n",
    "            \"train_f1_score\": train_f1_scores[-1],\n",
    "            \"train_auroc\": train_aurocs[-1],\n",
    "            \"val_loss\": val_losses[-1],\n",
    "            \"val_accuracy\": val_accuracies[-1],\n",
    "            \"val_top3_accuracy\": val_top3_accuracies[-1],\n",
    "            \"val_f1_score\": val_f1_scores[-1],\n",
    "            \"val_auroc\": val_aurocs[-1],\n",
    "            \"composite_score\": composite_score,\n",
    "            \"epoch_duration\": epoch_duration,\n",
    "        }\n",
    "    )"
   ]
  },
  {
   "cell_type": "code",
   "execution_count": 9,
   "id": "eaffbdf0",
   "metadata": {},
   "outputs": [
    {
     "name": "stdout",
     "output_type": "stream",
     "text": [
      "Log saved to /Users/tykim/Desktop/work/SNU_2025_Deeplearning_project/logs/train_log_Vit.json\n",
      "Training completed at 2025-09-04 14:16:40\n",
      "Total training time: 6532.32s\n"
     ]
    }
   ],
   "source": [
    "# 로그 저장\n",
    "logger.save()\n",
    "\n",
    "# 학습 종료 시간\n",
    "total_end_time = time.time()\n",
    "total_duration = total_end_time - total_start_time\n",
    "print(\n",
    "    f\"Training completed at {time.strftime('%Y-%m-%d %H:%M:%S', time.localtime(total_end_time))}\"\n",
    ")\n",
    "print(f\"Total training time: {total_duration:.2f}s\")"
   ]
  },
  {
   "cell_type": "markdown",
   "id": "f6075dc9",
   "metadata": {},
   "source": [
    "# 7. Test 검증"
   ]
  },
  {
   "cell_type": "code",
   "execution_count": 10,
   "id": "3625bf3f",
   "metadata": {},
   "outputs": [
    {
     "name": "stdout",
     "output_type": "stream",
     "text": [
      "Checkpoint keys: ['epoch', 'state_dict', 'optimizer_state_dict', 'train_loss', 'train_accuracy', 'train_top3_accuracy', 'train_f1_score', 'train_auroc', 'val_loss', 'val_accuracy', 'val_top3_accuracy', 'val_f1_score', 'val_auroc', 'composite_score', 'epoch_duration']\n",
      "State dict keys (first 10): ['class_token', 'conv_proj.weight', 'conv_proj.bias', 'encoder.pos_embedding', 'encoder.layers.encoder_layer_0.ln_1.weight', 'encoder.layers.encoder_layer_0.ln_1.bias', 'encoder.layers.encoder_layer_0.self_attention.in_proj_weight', 'encoder.layers.encoder_layer_0.self_attention.in_proj_bias', 'encoder.layers.encoder_layer_0.self_attention.out_proj.weight', 'encoder.layers.encoder_layer_0.self_attention.out_proj.bias']\n"
     ]
    }
   ],
   "source": [
    "# 체크포인트 로드\n",
    "checkpoint = torch.load(os.path.join(MODEL_DIR, MODEL_FILE_NAME), weights_only=False)\n",
    "\n",
    "# 체크포인트의 키들 확인\n",
    "print(\"Checkpoint keys:\", list(checkpoint.keys()))\n",
    "print(\"State dict keys (first 10):\", list(checkpoint[\"state_dict\"].keys())[:10])\n"
   ]
  },
  {
   "cell_type": "code",
   "execution_count": 11,
   "id": "12b736a7",
   "metadata": {},
   "outputs": [
    {
     "data": {
      "application/vnd.jupyter.widget-view+json": {
       "model_id": "856a1091658e4e868b40c437eb754e51",
       "version_major": 2,
       "version_minor": 0
      },
      "text/plain": [
       "Testing:   0%|          | 0/47 [00:00<?, ?it/s]"
      ]
     },
     "metadata": {},
     "output_type": "display_data"
    },
    {
     "name": "stdout",
     "output_type": "stream",
     "text": [
      "\n",
      "============================================================\n",
      "ViT - Final Test Results\n",
      "============================================================\n",
      "Test Loss: 0.6166\n",
      "Test Accuracy (Top-1): 0.9773\n",
      "Test Accuracy (Top-3): 0.9980\n",
      "Test F1-Score: 0.9773\n",
      "Test AUROC: 0.9989\n",
      "============================================================\n"
     ]
    },
    {
     "data": {
      "image/png": "[encoded data removed]",
      "text/plain": [
       "<Figure size 1200x1000 with 2 Axes>"
      ]
     },
     "metadata": {},
     "output_type": "display_data"
    }
   ],
   "source": [
    "# 모델 생성 (기존 모델 정의 코드 필요)\n",
    "model = create_model()\n",
    "\n",
    "# 체크포인트에서 가중치 로드\n",
    "model.load_state_dict(checkpoint[\"state_dict\"])\n",
    "\n",
    "# 평가 실행\n",
    "results = evaluate_test_set(model, test_loader, criterion, device)\n",
    "print_test_results(results, \"ViT\")"
   ]
  }
 ],
 "metadata": {
  "kernelspec": {
   "display_name": "taeya_python_env3.13",
   "language": "python",
   "name": "taeya_python_env3.13"
  },
  "language_info": {
   "codemirror_mode": {
    "name": "ipython",
    "version": 3
   },
   "file_extension": ".py",
   "mimetype": "text/x-python",
   "name": "python",
   "nbconvert_exporter": "python",
   "pygments_lexer": "ipython3",
   "version": "3.13.5"
  }
 },
 "nbformat": 4,
 "nbformat_minor": 5
}
