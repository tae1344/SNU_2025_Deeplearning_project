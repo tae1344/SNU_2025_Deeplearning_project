{
 "cells": [
  {
   "cell_type": "code",
   "execution_count": 14,
   "id": "fe79beeb",
   "metadata": {},
   "outputs": [
    {
     "name": "stdout",
     "output_type": "stream",
     "text": [
      "set_seed 42\n",
      "PyTorch version: 2.8.0\n",
      "CUDA available: False\n",
      "CUDA device count: 0\n",
      "Using device: cpu\n"
     ]
    }
   ],
   "source": [
    "import os, math, time\n",
    "import numpy as np\n",
    "import torch\n",
    "import torch.nn as nn\n",
    "import torch.optim as optim\n",
    "from torch.utils.data import Dataset, DataLoader\n",
    "from torchvision import models, transforms\n",
    "from sklearn.metrics import classification_report, confusion_matrix, f1_score\n",
    "from tqdm.auto import tqdm\n",
    "\n",
    "from common.config import (\n",
    "    BASE_DIR,\n",
    "    NUM_CLASSES,\n",
    "    BATCH_SIZE,\n",
    "    EPOCHS,\n",
    "    WARMUP_EPOCHS,\n",
    "    SEED,\n",
    "    BASE_LEARNING_RATE,\n",
    "    WD,\n",
    "    SEED,\n",
    "    DEVICE,\n",
    "    WORKER_NUM,\n",
    "    CLASS_NAMES,\n",
    "    TRANSFORM,\n",
    "    TRAIN_TRANSFORM,\n",
    "    VAL_TRANSFORM,\n",
    "    TRAIN_IMAGE_DIR,\n",
    "    TRAIN_LABEL_DIR,\n",
    "    VAL_IMAGE_DIR,\n",
    "    VAL_LABEL_DIR,\n",
    "    TEST_IMAGE_DIR,\n",
    "    TEST_LABEL_DIR,\n",
    "    LOG_DIR,\n",
    "    TRAIN_LOG_DIR,\n",
    "    TEST_LOG_DIR,\n",
    "    MODEL_DIR,\n",
    "    DROPOUT_RATE,\n",
    ")\n",
    "from common.utils import (\n",
    "    set_seed,\n",
    "    worker_init_fn,\n",
    "    get_mean_std_from_weights,\n",
    "    get_device,\n",
    "    device_pretty,\n",
    "    human_time,\n",
    "    count_parameters,\n",
    "    calculate_top_k_accuracy,\n",
    "    calculate_f1_score,\n",
    "    calculate_auroc,\n",
    "    save_auroc_data,\n",
    "    save_checkpoint,\n",
    ")\n",
    "from common.dataset import CustomDataset\n",
    "from common.logger import Logger\n",
    "from common.evaluate import evaluate_test_set, print_test_results\n",
    "\n",
    "# initail seed 설정\n",
    "set_seed(SEED)\n",
    "\n",
    "# Check PyTorch version and CUDA availability\n",
    "print(f\"PyTorch version: {torch.__version__}\")\n",
    "print(f\"CUDA available: {torch.cuda.is_available()}\")\n",
    "print(f\"CUDA device count: {torch.cuda.device_count()}\")\n",
    "\n",
    "if torch.cuda.is_available():\n",
    "    print(f\"Current CUDA device: {torch.cuda.current_device()}\")\n",
    "    print(f\"CUDA device name: {torch.cuda.get_device_name()}\")\n",
    "\n",
    "# Set device for computations\n",
    "device = torch.device(DEVICE)\n",
    "print(f\"Using device: {device}\")"
   ]
  },
  {
   "cell_type": "code",
   "execution_count": 2,
   "id": "2d8d214b",
   "metadata": {},
   "outputs": [
    {
     "name": "stdout",
     "output_type": "stream",
     "text": [
      "CWD: /Users/tykim/Desktop/work/SNU_2025_Deeplearning_project\n",
      "LABEL_DIR: /Users/tykim/Desktop/work/SNU_2025_Deeplearning_project/data/train/라벨링데이터\n",
      "IMAGE_DIR: /Users/tykim/Desktop/work/SNU_2025_Deeplearning_project/data/train/원천데이터\n",
      "LABEL_DIR exists: True\n",
      "IMAGE_DIR exists: True\n",
      "Found json files: 12000\n"
     ]
    }
   ],
   "source": [
    "import os, glob\n",
    "\n",
    "print(\"CWD:\", os.getcwd())\n",
    "print(\"LABEL_DIR:\", TRAIN_LABEL_DIR)\n",
    "print(\"IMAGE_DIR:\", TRAIN_IMAGE_DIR)\n",
    "print(\"LABEL_DIR exists:\", os.path.isdir(TRAIN_LABEL_DIR))\n",
    "print(\"IMAGE_DIR exists:\", os.path.isdir(TRAIN_IMAGE_DIR))\n",
    "\n",
    "json_paths = glob.glob(os.path.join(TRAIN_LABEL_DIR, \"**\", \"*.json\"), recursive=True)\n",
    "print(\"Found json files:\", len(json_paths))"
   ]
  },
  {
   "cell_type": "markdown",
   "id": "cd729a41",
   "metadata": {},
   "source": [
    "# 1. 데이터 셋 로드\n"
   ]
  },
  {
   "cell_type": "code",
   "execution_count": 3,
   "id": "a31a4244",
   "metadata": {},
   "outputs": [
    {
     "name": "stderr",
     "output_type": "stream",
     "text": [
      "Loading data: 100%|██████████| 12000/12000 [01:52<00:00, 106.98file/s]\n",
      "Loading data: 100%|██████████| 1500/1500 [00:12<00:00, 121.98file/s]\n",
      "Loading data: 100%|██████████| 1500/1500 [00:12<00:00, 121.20file/s]\n"
     ]
    }
   ],
   "source": [
    "MODEL_FILE_NAME = \"best_convnet_model.pth\"\n",
    "\n",
    "# 1) 데이터 증강,변환(색 왜곡은 과하지 않게)\n",
    "train_dataset = CustomDataset(\n",
    "    label_folder=TRAIN_LABEL_DIR, image_folder=TRAIN_IMAGE_DIR, transform=TRAIN_TRANSFORM\n",
    ")\n",
    "val_datatset = CustomDataset(\n",
    "    label_folder=VAL_LABEL_DIR, image_folder=VAL_IMAGE_DIR, transform=VAL_TRANSFORM\n",
    ")\n",
    "test_datatset = CustomDataset(\n",
    "    label_folder=TEST_LABEL_DIR, image_folder=TEST_IMAGE_DIR, transform=VAL_TRANSFORM\n",
    ")\n",
    "\n",
    "train_loader = DataLoader(\n",
    "    train_dataset,\n",
    "    batch_size=BATCH_SIZE,\n",
    "    shuffle=True,\n",
    "    num_workers=WORKER_NUM,\n",
    "    generator=torch.Generator(device=DEVICE),\n",
    "    worker_init_fn=worker_init_fn,\n",
    ")\n",
    "val_loader = DataLoader(\n",
    "    val_datatset,\n",
    "    batch_size=BATCH_SIZE,\n",
    "    shuffle=False,\n",
    "    num_workers=WORKER_NUM,\n",
    "    generator=torch.Generator(device=DEVICE),\n",
    ")\n",
    "test_loader = DataLoader(\n",
    "    val_datatset,\n",
    "    batch_size=BATCH_SIZE,\n",
    "    shuffle=False,\n",
    "    num_workers=WORKER_NUM,\n",
    "    generator=torch.Generator(device=DEVICE),\n",
    ")"
   ]
  },
  {
   "cell_type": "markdown",
   "id": "e607b3b7",
   "metadata": {},
   "source": [
    "# 2. 모델 설정 - ConvNet\n",
    "\n",
    "## 각 모델별로 다르게 설정!!"
   ]
  },
  {
   "cell_type": "code",
   "execution_count": 4,
   "id": "4daa6199",
   "metadata": {},
   "outputs": [],
   "source": [
    "class ConvNet(nn.Module):\n",
    "    def __init__(self, num_classes=15, dropout_rate=0.5):\n",
    "        super(ConvNet, self).__init__()\n",
    "\n",
    "        self.features = nn.Sequential(\n",
    "            # First block: Conv(3→64)→BN→ReLU→MaxPool\n",
    "            nn.Conv2d(3, 64, kernel_size=3, padding=1),\n",
    "            nn.BatchNorm2d(64),\n",
    "            nn.ReLU(inplace=True),\n",
    "            nn.MaxPool2d(kernel_size=2, stride=2),\n",
    "            # Second block: [Conv(64→128)→BN→ReLU]×2→MaxPool\n",
    "            nn.Conv2d(64, 128, kernel_size=3, padding=1),\n",
    "            nn.BatchNorm2d(128),\n",
    "            nn.ReLU(inplace=True),\n",
    "            nn.Conv2d(128, 128, kernel_size=3, padding=1),\n",
    "            nn.BatchNorm2d(128),\n",
    "            nn.ReLU(inplace=True),\n",
    "            nn.MaxPool2d(kernel_size=2, stride=2),\n",
    "            # Third block: [Conv(128→256)→BN→ReLU]×2→MaxPool\n",
    "            nn.Conv2d(128, 256, kernel_size=3, padding=1),\n",
    "            nn.BatchNorm2d(256),\n",
    "            nn.ReLU(inplace=True),\n",
    "            nn.Conv2d(256, 256, kernel_size=3, padding=1),\n",
    "            nn.BatchNorm2d(256),\n",
    "            nn.ReLU(inplace=True),\n",
    "            nn.MaxPool2d(kernel_size=2, stride=2),\n",
    "        )\n",
    "\n",
    "        self.classifier = nn.Sequential(\n",
    "            nn.AdaptiveAvgPool2d((1, 1)),  # Global Average Pooling\n",
    "            nn.Flatten(),\n",
    "            nn.Dropout(dropout_rate),\n",
    "            nn.Linear(256, num_classes),\n",
    "        )\n",
    "\n",
    "        # He initialization\n",
    "        self._initialize_weights()\n",
    "\n",
    "    def _initialize_weights(self):\n",
    "        for m in self.modules():\n",
    "            if isinstance(m, nn.Conv2d):\n",
    "                nn.init.kaiming_normal_(m.weight, mode=\"fan_out\", nonlinearity=\"relu\")\n",
    "                if m.bias is not None:\n",
    "                    nn.init.constant_(m.bias, 0)\n",
    "            elif isinstance(m, nn.BatchNorm2d):\n",
    "                nn.init.constant_(m.weight, 1)\n",
    "                nn.init.constant_(m.bias, 0)\n",
    "            elif isinstance(m, nn.Linear):\n",
    "                nn.init.normal_(m.weight, 0, 0.01)\n",
    "                nn.init.constant_(m.bias, 0)\n",
    "\n",
    "    def forward(self, x):\n",
    "        x = self.features(x)\n",
    "        x = self.classifier(x)\n",
    "        return x"
   ]
  },
  {
   "cell_type": "code",
   "execution_count": 5,
   "id": "c36b97c4",
   "metadata": {},
   "outputs": [
    {
     "data": {
      "text/plain": [
       "ConvNet(\n",
       "  (features): Sequential(\n",
       "    (0): Conv2d(3, 64, kernel_size=(3, 3), stride=(1, 1), padding=(1, 1))\n",
       "    (1): BatchNorm2d(64, eps=1e-05, momentum=0.1, affine=True, track_running_stats=True)\n",
       "    (2): ReLU(inplace=True)\n",
       "    (3): MaxPool2d(kernel_size=2, stride=2, padding=0, dilation=1, ceil_mode=False)\n",
       "    (4): Conv2d(64, 128, kernel_size=(3, 3), stride=(1, 1), padding=(1, 1))\n",
       "    (5): BatchNorm2d(128, eps=1e-05, momentum=0.1, affine=True, track_running_stats=True)\n",
       "    (6): ReLU(inplace=True)\n",
       "    (7): Conv2d(128, 128, kernel_size=(3, 3), stride=(1, 1), padding=(1, 1))\n",
       "    (8): BatchNorm2d(128, eps=1e-05, momentum=0.1, affine=True, track_running_stats=True)\n",
       "    (9): ReLU(inplace=True)\n",
       "    (10): MaxPool2d(kernel_size=2, stride=2, padding=0, dilation=1, ceil_mode=False)\n",
       "    (11): Conv2d(128, 256, kernel_size=(3, 3), stride=(1, 1), padding=(1, 1))\n",
       "    (12): BatchNorm2d(256, eps=1e-05, momentum=0.1, affine=True, track_running_stats=True)\n",
       "    (13): ReLU(inplace=True)\n",
       "    (14): Conv2d(256, 256, kernel_size=(3, 3), stride=(1, 1), padding=(1, 1))\n",
       "    (15): BatchNorm2d(256, eps=1e-05, momentum=0.1, affine=True, track_running_stats=True)\n",
       "    (16): ReLU(inplace=True)\n",
       "    (17): MaxPool2d(kernel_size=2, stride=2, padding=0, dilation=1, ceil_mode=False)\n",
       "  )\n",
       "  (classifier): Sequential(\n",
       "    (0): AdaptiveAvgPool2d(output_size=(1, 1))\n",
       "    (1): Flatten(start_dim=1, end_dim=-1)\n",
       "    (2): Dropout(p=0.5, inplace=False)\n",
       "    (3): Linear(in_features=256, out_features=15, bias=True)\n",
       "  )\n",
       ")"
      ]
     },
     "execution_count": 5,
     "metadata": {},
     "output_type": "execute_result"
    }
   ],
   "source": [
    "# 2) 모델: ConvNet - CNN 기반 모델\n",
    "def create_model():\n",
    "    model = ConvNet(num_classes=NUM_CLASSES, dropout_rate=DROPOUT_RATE)  # 15, 0.5\n",
    "    return model.to(device)\n",
    "\n",
    "model = create_model()\n",
    "model"
   ]
  },
  {
   "cell_type": "markdown",
   "id": "5f0c0710",
   "metadata": {},
   "source": [
    "# 3. Optima, Scheduler, Scaler 설정"
   ]
  },
  {
   "cell_type": "code",
   "execution_count": 6,
   "id": "ced8239e",
   "metadata": {},
   "outputs": [
    {
     "name": "stdout",
     "output_type": "stream",
     "text": [
      "⚠️  Mixed Precision Training disabled (CPU mode)\n"
     ]
    }
   ],
   "source": [
    "# 3) 손실/옵티마/스케줄러\n",
    "criterion = nn.CrossEntropyLoss(label_smoothing=0.1)\n",
    "optimizer = torch.optim.AdamW(\n",
    "    filter(lambda p: p.requires_grad, model.parameters()), lr=BASE_LEARNING_RATE, weight_decay=WD\n",
    ")\n",
    "\n",
    "def lr_lambda(current_epoch):\n",
    "    if current_epoch < WARMUP_EPOCHS:\n",
    "        return float(current_epoch + 1) / WARMUP_EPOCHS\n",
    "    # cosine\n",
    "    t = (current_epoch - WARMUP_EPOCHS) / max(1, (EPOCHS - WARMUP_EPOCHS))\n",
    "    return 0.5 * (1 + math.cos(math.pi * t))\n",
    "\n",
    "\n",
    "# 스케쥴러\n",
    "scheduler = torch.optim.lr_scheduler.LambdaLR(optimizer, lr_lambda)\n",
    "\n",
    "# 스케일러\n",
    "# Mixed Precision Training 설정 (GPU에서만 사용)\n",
    "if torch.cuda.is_available():\n",
    "    scaler = torch.amp.GradScaler(\"cuda\")\n",
    "    print(\"✅ Mixed Precision Training enabled (GPU)\")\n",
    "else:\n",
    "    scaler = None\n",
    "    print(\"⚠️  Mixed Precision Training disabled (CPU mode)\")\n",
    "\n",
    "# Logger 설정\n",
    "logger = Logger(LOG_DIR, \"train_log.json\")"
   ]
  },
  {
   "cell_type": "markdown",
   "id": "8f6ea90a",
   "metadata": {},
   "source": [
    "# 4. 평가지표 변수 설정"
   ]
  },
  {
   "cell_type": "code",
   "execution_count": 7,
   "id": "eefd6276",
   "metadata": {},
   "outputs": [
    {
     "name": "stdout",
     "output_type": "stream",
     "text": [
      "Training started at 2025-09-04 02:33:47\n"
     ]
    }
   ],
   "source": [
    "train_losses, val_losses = [], []\n",
    "train_accuracies, val_accuracies = [], []\n",
    "train_top3_accuracies, val_top3_accuracies = [], []\n",
    "train_aurocs, val_aurocs = [], []\n",
    "train_f1_scores, val_f1_scores = [], []\n",
    "\n",
    "best_val_loss = float(\"inf\")\n",
    "best_composite_score = 0.0  # 복합 점수 초기화\n",
    "best_epoch = 0\n",
    "early_stopping_counter = 0\n",
    "patience = 20\n",
    "\n",
    "# 학습 시작 시간\n",
    "total_start_time = time.time()\n",
    "print(\n",
    "    f\"Training started at {time.strftime('%Y-%m-%d %H:%M:%S', time.localtime(total_start_time))}\"\n",
    ")"
   ]
  },
  {
   "cell_type": "markdown",
   "id": "8afec4bc",
   "metadata": {},
   "source": [
    "# 5. 모델 학습 함수 정의"
   ]
  },
  {
   "cell_type": "code",
   "execution_count": 8,
   "id": "d5fdd455",
   "metadata": {},
   "outputs": [],
   "source": [
    "def train_one_epoch(\n",
    "    model, train_loader, criterion, optimizer, device, scaler=None, desc=None\n",
    "):\n",
    "    \"\"\"한 에포크 학습\"\"\"\n",
    "    model.train()\n",
    "    epoch_loss = 0.0\n",
    "    epoch_correct = 0\n",
    "    epoch_top3_correct = 0\n",
    "    epoch_total = 0\n",
    "\n",
    "    train_outputs = []\n",
    "    train_labels = []\n",
    "\n",
    "    iterator = train_loader\n",
    "    if desc is not None:\n",
    "        try:\n",
    "            from tqdm.auto import tqdm\n",
    "\n",
    "            iterator = tqdm(train_loader, desc=desc)\n",
    "        except Exception:\n",
    "            iterator = train_loader\n",
    "\n",
    "    for images, labels in iterator:\n",
    "        images, labels = images.to(device), labels.to(device)\n",
    "        optimizer.zero_grad()\n",
    "\n",
    "        if scaler is not None:\n",
    "            with torch.amp.autocast(device_type=\"cuda\", dtype=torch.float16):\n",
    "                outputs = model(images)\n",
    "                loss = criterion(outputs, labels)\n",
    "\n",
    "            scaler.scale(loss).backward()\n",
    "            scaler.step(optimizer)\n",
    "            scaler.update()\n",
    "        else:\n",
    "            outputs = model(images)\n",
    "            loss = criterion(outputs, labels)\n",
    "\n",
    "            loss.backward()\n",
    "            optimizer.step()\n",
    "\n",
    "        epoch_loss += loss.item()\n",
    "        _, preds = torch.max(outputs, 1)\n",
    "        batch_size = labels.size(0)\n",
    "        epoch_total += batch_size\n",
    "        epoch_correct += (preds == labels).sum().item()\n",
    "        epoch_top3_correct += calculate_top_k_accuracy(outputs, labels, k=3)\n",
    "\n",
    "        train_outputs.extend(outputs.detach().cpu().tolist())\n",
    "        train_labels.extend(labels.detach().cpu().tolist())\n",
    "\n",
    "    epoch_loss /= max(1, len(train_loader))\n",
    "    epoch_acc = epoch_correct / max(1, epoch_total)\n",
    "    epoch_top3_acc = epoch_top3_correct / max(1, epoch_total)\n",
    "\n",
    "    return {\n",
    "        \"loss\": epoch_loss,\n",
    "        \"accuracy\": epoch_acc,\n",
    "        \"top3_accuracy\": epoch_top3_acc,\n",
    "        \"outputs\": train_outputs,\n",
    "        \"labels\": train_labels,\n",
    "    }\n",
    "\n",
    "\n",
    "def validation_one_epoch(model, val_loader, criterion, device, desc=None):\n",
    "    \"\"\"한 에포크 검증\"\"\"\n",
    "    model.eval()\n",
    "    val_loss = 0.0\n",
    "    val_correct = 0\n",
    "    val_top3_correct = 0\n",
    "    val_total = 0\n",
    "\n",
    "    val_outputs = []\n",
    "    val_labels = []\n",
    "\n",
    "    iterator = val_loader\n",
    "    if desc is not None:\n",
    "        try:\n",
    "            from tqdm.auto import tqdm\n",
    "\n",
    "            iterator = tqdm(val_loader, desc=desc)\n",
    "        except Exception:\n",
    "            iterator = val_loader\n",
    "\n",
    "    with torch.no_grad():\n",
    "        for images, labels in iterator:\n",
    "            images, labels = images.to(device), labels.to(device)\n",
    "            outputs = model(images)\n",
    "            loss = criterion(outputs, labels)\n",
    "\n",
    "            val_loss += loss.item()\n",
    "            _, preds = torch.max(outputs, 1)\n",
    "            batch_size = labels.size(0)\n",
    "            val_total += batch_size\n",
    "            val_correct += (preds == labels).sum().item()\n",
    "            val_top3_correct += calculate_top_k_accuracy(outputs, labels, k=3)\n",
    "\n",
    "            val_outputs.extend(outputs.detach().cpu().tolist())\n",
    "            val_labels.extend(labels.detach().cpu().tolist())\n",
    "\n",
    "    val_loss /= max(1, len(val_loader))\n",
    "    val_acc = val_correct / max(1, val_total)\n",
    "    val_top3_acc = val_top3_correct / max(1, val_total)\n",
    "\n",
    "    return {\n",
    "        \"loss\": val_loss,\n",
    "        \"accuracy\": val_acc,\n",
    "        \"top3_accuracy\": val_top3_acc,\n",
    "        \"outputs\": val_outputs,\n",
    "        \"labels\": val_labels,\n",
    "    }"
   ]
  },
  {
   "cell_type": "markdown",
   "id": "ee57c791",
   "metadata": {},
   "source": [
    "# 6. 모델 훈련"
   ]
  },
  {
   "cell_type": "code",
   "execution_count": 9,
   "id": "73fa2d4b",
   "metadata": {},
   "outputs": [
    {
     "data": {
      "application/vnd.jupyter.widget-view+json": {
       "model_id": "4f5ab55da07e47b0b76eca958b0e1a11",
       "version_major": 2,
       "version_minor": 0
      },
      "text/plain": [
       "Training Epoch 1/10:   0%|          | 0/375 [00:00<?, ?it/s]"
      ]
     },
     "metadata": {},
     "output_type": "display_data"
    },
    {
     "name": "stdout",
     "output_type": "stream",
     "text": [
      "AUROC data saved for train at epoch 1 to /Users/tykim/Desktop/work/SNU_2025_Deeplearning_project/logs/train_logs/train_auroc_data_epoch_1.json\n"
     ]
    },
    {
     "data": {
      "application/vnd.jupyter.widget-view+json": {
       "model_id": "139fbfcc82934f15ac447114a8e34378",
       "version_major": 2,
       "version_minor": 0
      },
      "text/plain": [
       "Validating:   0%|          | 0/47 [00:00<?, ?it/s]"
      ]
     },
     "metadata": {},
     "output_type": "display_data"
    },
    {
     "name": "stdout",
     "output_type": "stream",
     "text": [
      "AUROC data saved for val at epoch 1 to /Users/tykim/Desktop/work/SNU_2025_Deeplearning_project/logs/train_logs/val_auroc_data_epoch_1.json\n",
      "[Epoch 1/10] Time: 1947.85s, Train Loss: 1.8639, Train Acc: 0.5234, Train Top-3: 0.8029, Train F1: 0.5144, Val Loss: 1.4313, Val Acc: 0.7240, Val Top-3: 0.9333, Val F1: 0.7116\n",
      "Checkpoint saved at /Users/tykim/Desktop/work/SNU_2025_Deeplearning_project/model/best_convnet_model.pth\n",
      "🎯 New best model saved! Composite Score: 0.6769\n",
      "{\n",
      "    \"epoch\": 1,\n",
      "    \"train_loss\": 1.863894645055135,\n",
      "    \"train_accuracy\": 0.5234166666666666,\n",
      "    \"train_top3_accuracy\": 0.8029166666666666,\n",
      "    \"train_f1_score\": 0.5143646395674838,\n",
      "    \"train_auroc\": 0.8922582663690477,\n",
      "    \"val_loss\": 1.4312746841856774,\n",
      "    \"val_accuracy\": 0.724,\n",
      "    \"val_top3_accuracy\": 0.9333333333333333,\n",
      "    \"val_f1_score\": 0.7116453815449302,\n",
      "    \"val_auroc\": 0.9603499999999999,\n",
      "    \"composite_score\": 0.6769066078904182,\n",
      "    \"epoch_duration\": 1947.8457398414612,\n",
      "    \"timestamp\": \"2025-09-04 03:06:15.746096\"\n",
      "}\n"
     ]
    },
    {
     "data": {
      "application/vnd.jupyter.widget-view+json": {
       "model_id": "00dd43e289e94b118292cc8b1348e370",
       "version_major": 2,
       "version_minor": 0
      },
      "text/plain": [
       "Training Epoch 2/10:   0%|          | 0/375 [00:00<?, ?it/s]"
      ]
     },
     "metadata": {},
     "output_type": "display_data"
    },
    {
     "name": "stdout",
     "output_type": "stream",
     "text": [
      "AUROC data saved for train at epoch 2 to /Users/tykim/Desktop/work/SNU_2025_Deeplearning_project/logs/train_logs/train_auroc_data_epoch_2.json\n"
     ]
    },
    {
     "data": {
      "application/vnd.jupyter.widget-view+json": {
       "model_id": "5e98b7675e49402fb95542c00197d51f",
       "version_major": 2,
       "version_minor": 0
      },
      "text/plain": [
       "Validating:   0%|          | 0/47 [00:00<?, ?it/s]"
      ]
     },
     "metadata": {},
     "output_type": "display_data"
    },
    {
     "name": "stdout",
     "output_type": "stream",
     "text": [
      "AUROC data saved for val at epoch 2 to /Users/tykim/Desktop/work/SNU_2025_Deeplearning_project/logs/train_logs/val_auroc_data_epoch_2.json\n",
      "[Epoch 2/10] Time: 1846.00s, Train Loss: 1.4876, Train Acc: 0.6738, Train Top-3: 0.8946, Train F1: 0.6732, Val Loss: 1.2271, Val Acc: 0.8313, Val Top-3: 0.9573, Val F1: 0.8269\n",
      "Checkpoint saved at /Users/tykim/Desktop/work/SNU_2025_Deeplearning_project/model/best_convnet_model.pth\n",
      "🎯 New best model saved! Composite Score: 0.7676\n",
      "{\n",
      "    \"epoch\": 2,\n",
      "    \"train_loss\": 1.4875754035313924,\n",
      "    \"train_accuracy\": 0.6738333333333333,\n",
      "    \"train_top3_accuracy\": 0.8945833333333333,\n",
      "    \"train_f1_score\": 0.673240045846748,\n",
      "    \"train_auroc\": 0.9362291629464286,\n",
      "    \"val_loss\": 1.227120746957495,\n",
      "    \"val_accuracy\": 0.8313333333333334,\n",
      "    \"val_top3_accuracy\": 0.9573333333333334,\n",
      "    \"val_f1_score\": 0.8268556229198971,\n",
      "    \"val_auroc\": 0.9745947619047619,\n",
      "    \"composite_score\": 0.7675708117929918,\n",
      "    \"epoch_duration\": 1845.9998128414154,\n",
      "    \"timestamp\": \"2025-09-04 03:37:01.762821\"\n",
      "}\n"
     ]
    },
    {
     "data": {
      "application/vnd.jupyter.widget-view+json": {
       "model_id": "ffa22665720c4df28c3dcf89fa374587",
       "version_major": 2,
       "version_minor": 0
      },
      "text/plain": [
       "Training Epoch 3/10:   0%|          | 0/375 [00:00<?, ?it/s]"
      ]
     },
     "metadata": {},
     "output_type": "display_data"
    },
    {
     "name": "stdout",
     "output_type": "stream",
     "text": [
      "AUROC data saved for train at epoch 3 to /Users/tykim/Desktop/work/SNU_2025_Deeplearning_project/logs/train_logs/train_auroc_data_epoch_3.json\n"
     ]
    },
    {
     "data": {
      "application/vnd.jupyter.widget-view+json": {
       "model_id": "d6a27d27a8694029bfbe6ab8ed7f3443",
       "version_major": 2,
       "version_minor": 0
      },
      "text/plain": [
       "Validating:   0%|          | 0/47 [00:00<?, ?it/s]"
      ]
     },
     "metadata": {},
     "output_type": "display_data"
    },
    {
     "name": "stdout",
     "output_type": "stream",
     "text": [
      "AUROC data saved for val at epoch 3 to /Users/tykim/Desktop/work/SNU_2025_Deeplearning_project/logs/train_logs/val_auroc_data_epoch_3.json\n",
      "[Epoch 3/10] Time: 1846.95s, Train Loss: 1.3645, Train Acc: 0.7262, Train Top-3: 0.9235, Train F1: 0.7263, Val Loss: 1.1779, Val Acc: 0.7993, Val Top-3: 0.9567, Val F1: 0.7968\n",
      "{\n",
      "    \"epoch\": 3,\n",
      "    \"train_loss\": 1.364517452875773,\n",
      "    \"train_accuracy\": 0.72625,\n",
      "    \"train_top3_accuracy\": 0.9235,\n",
      "    \"train_f1_score\": 0.7263363334267192,\n",
      "    \"train_auroc\": 0.9501665848214286,\n",
      "    \"val_loss\": 1.1779414199768228,\n",
      "    \"val_accuracy\": 0.7993333333333333,\n",
      "    \"val_top3_accuracy\": 0.9566666666666667,\n",
      "    \"val_f1_score\": 0.7967836551521913,\n",
      "    \"val_auroc\": 0.9835080952380952,\n",
      "    \"composite_score\": 0.7563483509375178,\n",
      "    \"epoch_duration\": 1846.953910112381,\n",
      "    \"timestamp\": \"2025-09-04 04:07:48.716812\"\n",
      "}\n"
     ]
    },
    {
     "data": {
      "application/vnd.jupyter.widget-view+json": {
       "model_id": "7ef02f2ce6824f19bd7adeb07f872608",
       "version_major": 2,
       "version_minor": 0
      },
      "text/plain": [
       "Training Epoch 4/10:   0%|          | 0/375 [00:00<?, ?it/s]"
      ]
     },
     "metadata": {},
     "output_type": "display_data"
    },
    {
     "name": "stdout",
     "output_type": "stream",
     "text": [
      "AUROC data saved for train at epoch 4 to /Users/tykim/Desktop/work/SNU_2025_Deeplearning_project/logs/train_logs/train_auroc_data_epoch_4.json\n"
     ]
    },
    {
     "data": {
      "application/vnd.jupyter.widget-view+json": {
       "model_id": "10b322e5137f4dc1ac586d461fa671b1",
       "version_major": 2,
       "version_minor": 0
      },
      "text/plain": [
       "Validating:   0%|          | 0/47 [00:00<?, ?it/s]"
      ]
     },
     "metadata": {},
     "output_type": "display_data"
    },
    {
     "name": "stdout",
     "output_type": "stream",
     "text": [
      "AUROC data saved for val at epoch 4 to /Users/tykim/Desktop/work/SNU_2025_Deeplearning_project/logs/train_logs/val_auroc_data_epoch_4.json\n",
      "[Epoch 4/10] Time: 1837.46s, Train Loss: 1.2911, Train Acc: 0.7591, Train Top-3: 0.9343, Train F1: 0.7595, Val Loss: 1.0402, Val Acc: 0.8840, Val Top-3: 0.9827, Val F1: 0.8856\n",
      "Checkpoint saved at /Users/tykim/Desktop/work/SNU_2025_Deeplearning_project/model/best_convnet_model.pth\n",
      "🎯 New best model saved! Composite Score: 0.8234\n",
      "{\n",
      "    \"epoch\": 4,\n",
      "    \"train_loss\": 1.2911011638641356,\n",
      "    \"train_accuracy\": 0.7590833333333333,\n",
      "    \"train_top3_accuracy\": 0.93425,\n",
      "    \"train_f1_score\": 0.7595118657131307,\n",
      "    \"train_auroc\": 0.9584648772321429,\n",
      "    \"val_loss\": 1.0401501858488043,\n",
      "    \"val_accuracy\": 0.884,\n",
      "    \"val_top3_accuracy\": 0.9826666666666667,\n",
      "    \"val_f1_score\": 0.8856342490224463,\n",
      "    \"val_auroc\": 0.9888090476190475,\n",
      "    \"composite_score\": 0.8233545455053232,\n",
      "    \"epoch_duration\": 1837.4605481624603,\n",
      "    \"timestamp\": \"2025-09-04 04:38:26.193403\"\n",
      "}\n"
     ]
    },
    {
     "data": {
      "application/vnd.jupyter.widget-view+json": {
       "model_id": "50d777478f564bdcb9315c0bff0e5d44",
       "version_major": 2,
       "version_minor": 0
      },
      "text/plain": [
       "Training Epoch 5/10:   0%|          | 0/375 [00:00<?, ?it/s]"
      ]
     },
     "metadata": {},
     "output_type": "display_data"
    },
    {
     "name": "stdout",
     "output_type": "stream",
     "text": [
      "AUROC data saved for train at epoch 5 to /Users/tykim/Desktop/work/SNU_2025_Deeplearning_project/logs/train_logs/train_auroc_data_epoch_5.json\n"
     ]
    },
    {
     "data": {
      "application/vnd.jupyter.widget-view+json": {
       "model_id": "3d74739c6e2644e5aef4af5ecc4dcd90",
       "version_major": 2,
       "version_minor": 0
      },
      "text/plain": [
       "Validating:   0%|          | 0/47 [00:00<?, ?it/s]"
      ]
     },
     "metadata": {},
     "output_type": "display_data"
    },
    {
     "name": "stdout",
     "output_type": "stream",
     "text": [
      "AUROC data saved for val at epoch 5 to /Users/tykim/Desktop/work/SNU_2025_Deeplearning_project/logs/train_logs/val_auroc_data_epoch_5.json\n",
      "[Epoch 5/10] Time: 8143.81s, Train Loss: 1.2235, Train Acc: 0.7837, Train Top-3: 0.9408, Train F1: 0.7840, Val Loss: 0.9479, Val Acc: 0.9113, Val Top-3: 0.9853, Val F1: 0.9110\n",
      "Checkpoint saved at /Users/tykim/Desktop/work/SNU_2025_Deeplearning_project/model/best_convnet_model.pth\n",
      "🎯 New best model saved! Composite Score: 0.8493\n",
      "{\n",
      "    \"epoch\": 5,\n",
      "    \"train_loss\": 1.2234743657112122,\n",
      "    \"train_accuracy\": 0.7836666666666666,\n",
      "    \"train_top3_accuracy\": 0.9408333333333333,\n",
      "    \"train_f1_score\": 0.7839948109495829,\n",
      "    \"train_auroc\": 0.9655105133928572,\n",
      "    \"val_loss\": 0.9479032361761053,\n",
      "    \"val_accuracy\": 0.9113333333333333,\n",
      "    \"val_top3_accuracy\": 0.9853333333333333,\n",
      "    \"val_f1_score\": 0.9110396210024092,\n",
      "    \"val_auroc\": 0.9911961904761903,\n",
      "    \"composite_score\": 0.8493097910590618,\n",
      "    \"epoch_duration\": 8143.810184955597,\n",
      "    \"timestamp\": \"2025-09-04 06:54:10.024836\"\n",
      "}\n"
     ]
    },
    {
     "data": {
      "application/vnd.jupyter.widget-view+json": {
       "model_id": "bac0659ce09242d5a91c9025ca028d63",
       "version_major": 2,
       "version_minor": 0
      },
      "text/plain": [
       "Training Epoch 6/10:   0%|          | 0/375 [00:00<?, ?it/s]"
      ]
     },
     "metadata": {},
     "output_type": "display_data"
    },
    {
     "name": "stdout",
     "output_type": "stream",
     "text": [
      "AUROC data saved for train at epoch 6 to /Users/tykim/Desktop/work/SNU_2025_Deeplearning_project/logs/train_logs/train_auroc_data_epoch_6.json\n"
     ]
    },
    {
     "data": {
      "application/vnd.jupyter.widget-view+json": {
       "model_id": "090c955e790f477bb7aa1505c9e0f582",
       "version_major": 2,
       "version_minor": 0
      },
      "text/plain": [
       "Validating:   0%|          | 0/47 [00:00<?, ?it/s]"
      ]
     },
     "metadata": {},
     "output_type": "display_data"
    },
    {
     "name": "stdout",
     "output_type": "stream",
     "text": [
      "AUROC data saved for val at epoch 6 to /Users/tykim/Desktop/work/SNU_2025_Deeplearning_project/logs/train_logs/val_auroc_data_epoch_6.json\n",
      "[Epoch 6/10] Time: 1889.37s, Train Loss: 1.1641, Train Acc: 0.8135, Train Top-3: 0.9509, Train F1: 0.8141, Val Loss: 0.9253, Val Acc: 0.9087, Val Top-3: 0.9840, Val F1: 0.9104\n",
      "Checkpoint saved at /Users/tykim/Desktop/work/SNU_2025_Deeplearning_project/model/best_convnet_model.pth\n",
      "🎯 New best model saved! Composite Score: 0.8509\n",
      "{\n",
      "    \"epoch\": 6,\n",
      "    \"train_loss\": 1.1641040069262187,\n",
      "    \"train_accuracy\": 0.8135,\n",
      "    \"train_top3_accuracy\": 0.9509166666666666,\n",
      "    \"train_f1_score\": 0.8141099164198745,\n",
      "    \"train_auroc\": 0.9702593117559524,\n",
      "    \"val_loss\": 0.9252768716913589,\n",
      "    \"val_accuracy\": 0.9086666666666666,\n",
      "    \"val_top3_accuracy\": 0.984,\n",
      "    \"val_f1_score\": 0.9104002261665094,\n",
      "    \"val_auroc\": 0.9930009523809524,\n",
      "    \"composite_score\": 0.8509193104451185,\n",
      "    \"epoch_duration\": 1889.367024898529,\n",
      "    \"timestamp\": \"2025-09-04 07:25:39.410718\"\n",
      "}\n"
     ]
    },
    {
     "data": {
      "application/vnd.jupyter.widget-view+json": {
       "model_id": "e8a37cef6aaa45869efb8e63db651fd7",
       "version_major": 2,
       "version_minor": 0
      },
      "text/plain": [
       "Training Epoch 7/10:   0%|          | 0/375 [00:00<?, ?it/s]"
      ]
     },
     "metadata": {},
     "output_type": "display_data"
    },
    {
     "name": "stdout",
     "output_type": "stream",
     "text": [
      "AUROC data saved for train at epoch 7 to /Users/tykim/Desktop/work/SNU_2025_Deeplearning_project/logs/train_logs/train_auroc_data_epoch_7.json\n"
     ]
    },
    {
     "data": {
      "application/vnd.jupyter.widget-view+json": {
       "model_id": "c04ffaa3651d41d09e69b907129cad1f",
       "version_major": 2,
       "version_minor": 0
      },
      "text/plain": [
       "Validating:   0%|          | 0/47 [00:00<?, ?it/s]"
      ]
     },
     "metadata": {},
     "output_type": "display_data"
    },
    {
     "name": "stdout",
     "output_type": "stream",
     "text": [
      "AUROC data saved for val at epoch 7 to /Users/tykim/Desktop/work/SNU_2025_Deeplearning_project/logs/train_logs/val_auroc_data_epoch_7.json\n",
      "[Epoch 7/10] Time: 6748.69s, Train Loss: 1.1147, Train Acc: 0.8285, Train Top-3: 0.9586, Train F1: 0.8291, Val Loss: 0.8601, Val Acc: 0.9500, Val Top-3: 0.9893, Val F1: 0.9499\n",
      "Checkpoint saved at /Users/tykim/Desktop/work/SNU_2025_Deeplearning_project/model/best_convnet_model.pth\n",
      "🎯 New best model saved! Composite Score: 0.8826\n",
      "{\n",
      "    \"epoch\": 7,\n",
      "    \"train_loss\": 1.114700217882792,\n",
      "    \"train_accuracy\": 0.8285,\n",
      "    \"train_top3_accuracy\": 0.9585833333333333,\n",
      "    \"train_f1_score\": 0.82909899197084,\n",
      "    \"train_auroc\": 0.9752363392857144,\n",
      "    \"val_loss\": 0.8601422550830435,\n",
      "    \"val_accuracy\": 0.95,\n",
      "    \"val_top3_accuracy\": 0.9893333333333333,\n",
      "    \"val_f1_score\": 0.9499441268931067,\n",
      "    \"val_auroc\": 0.9952585714285714,\n",
      "    \"composite_score\": 0.8825521712988885,\n",
      "    \"epoch_duration\": 6748.692005157471,\n",
      "    \"timestamp\": \"2025-09-04 09:18:08.124118\"\n",
      "}\n"
     ]
    },
    {
     "data": {
      "application/vnd.jupyter.widget-view+json": {
       "model_id": "08ca13c9ea37487bb3dd7d7aee2f0b49",
       "version_major": 2,
       "version_minor": 0
      },
      "text/plain": [
       "Training Epoch 8/10:   0%|          | 0/375 [00:00<?, ?it/s]"
      ]
     },
     "metadata": {},
     "output_type": "display_data"
    },
    {
     "name": "stdout",
     "output_type": "stream",
     "text": [
      "AUROC data saved for train at epoch 8 to /Users/tykim/Desktop/work/SNU_2025_Deeplearning_project/logs/train_logs/train_auroc_data_epoch_8.json\n"
     ]
    },
    {
     "data": {
      "application/vnd.jupyter.widget-view+json": {
       "model_id": "881e8687add948d5ba77f4e16d4d6033",
       "version_major": 2,
       "version_minor": 0
      },
      "text/plain": [
       "Validating:   0%|          | 0/47 [00:00<?, ?it/s]"
      ]
     },
     "metadata": {},
     "output_type": "display_data"
    },
    {
     "name": "stdout",
     "output_type": "stream",
     "text": [
      "AUROC data saved for val at epoch 8 to /Users/tykim/Desktop/work/SNU_2025_Deeplearning_project/logs/train_logs/val_auroc_data_epoch_8.json\n",
      "[Epoch 8/10] Time: 2032.17s, Train Loss: 1.0680, Train Acc: 0.8464, Train Top-3: 0.9650, Train F1: 0.8469, Val Loss: 0.8415, Val Acc: 0.9507, Val Top-3: 0.9907, Val F1: 0.9507\n",
      "Checkpoint saved at /Users/tykim/Desktop/work/SNU_2025_Deeplearning_project/model/best_convnet_model.pth\n",
      "🎯 New best model saved! Composite Score: 0.8850\n",
      "{\n",
      "    \"epoch\": 8,\n",
      "    \"train_loss\": 1.0679884692827861,\n",
      "    \"train_accuracy\": 0.8464166666666667,\n",
      "    \"train_top3_accuracy\": 0.965,\n",
      "    \"train_f1_score\": 0.8468976462365886,\n",
      "    \"train_auroc\": 0.979149568452381,\n",
      "    \"val_loss\": 0.8415229510753712,\n",
      "    \"val_accuracy\": 0.9506666666666667,\n",
      "    \"val_top3_accuracy\": 0.9906666666666667,\n",
      "    \"val_f1_score\": 0.9507083007614722,\n",
      "    \"val_auroc\": 0.9956990476190477,\n",
      "    \"composite_score\": 0.8849657459971384,\n",
      "    \"epoch_duration\": 2032.1701092720032,\n",
      "    \"timestamp\": \"2025-09-04 09:52:00.336661\"\n",
      "}\n"
     ]
    },
    {
     "data": {
      "application/vnd.jupyter.widget-view+json": {
       "model_id": "e7640817ac704509ba75adc8fdc0e5be",
       "version_major": 2,
       "version_minor": 0
      },
      "text/plain": [
       "Training Epoch 9/10:   0%|          | 0/375 [00:00<?, ?it/s]"
      ]
     },
     "metadata": {},
     "output_type": "display_data"
    },
    {
     "name": "stdout",
     "output_type": "stream",
     "text": [
      "AUROC data saved for train at epoch 9 to /Users/tykim/Desktop/work/SNU_2025_Deeplearning_project/logs/train_logs/train_auroc_data_epoch_9.json\n"
     ]
    },
    {
     "data": {
      "application/vnd.jupyter.widget-view+json": {
       "model_id": "0729649a782a45d98bc2b78d62978dd2",
       "version_major": 2,
       "version_minor": 0
      },
      "text/plain": [
       "Validating:   0%|          | 0/47 [00:00<?, ?it/s]"
      ]
     },
     "metadata": {},
     "output_type": "display_data"
    },
    {
     "name": "stdout",
     "output_type": "stream",
     "text": [
      "AUROC data saved for val at epoch 9 to /Users/tykim/Desktop/work/SNU_2025_Deeplearning_project/logs/train_logs/val_auroc_data_epoch_9.json\n",
      "[Epoch 9/10] Time: 1361.95s, Train Loss: 1.0404, Train Acc: 0.8596, Train Top-3: 0.9672, Train F1: 0.8599, Val Loss: 0.8180, Val Acc: 0.9587, Val Top-3: 0.9920, Val F1: 0.9587\n",
      "Checkpoint saved at /Users/tykim/Desktop/work/SNU_2025_Deeplearning_project/model/best_convnet_model.pth\n",
      "🎯 New best model saved! Composite Score: 0.8924\n",
      "{\n",
      "    \"epoch\": 9,\n",
      "    \"train_loss\": 1.040360760052999,\n",
      "    \"train_accuracy\": 0.8595833333333334,\n",
      "    \"train_top3_accuracy\": 0.9671666666666666,\n",
      "    \"train_f1_score\": 0.8599392032306316,\n",
      "    \"train_auroc\": 0.9814696465773808,\n",
      "    \"val_loss\": 0.817961185536486,\n",
      "    \"val_accuracy\": 0.9586666666666667,\n",
      "    \"val_top3_accuracy\": 0.992,\n",
      "    \"val_f1_score\": 0.9587017180739527,\n",
      "    \"val_auroc\": 0.9967495238095238,\n",
      "    \"composite_score\": 0.8924357488706657,\n",
      "    \"epoch_duration\": 1361.945271730423,\n",
      "    \"timestamp\": \"2025-09-04 10:14:42.299775\"\n",
      "}\n"
     ]
    },
    {
     "data": {
      "application/vnd.jupyter.widget-view+json": {
       "model_id": "b6b7928f424244dcae8ecb4fcc60060e",
       "version_major": 2,
       "version_minor": 0
      },
      "text/plain": [
       "Training Epoch 10/10:   0%|          | 0/375 [00:00<?, ?it/s]"
      ]
     },
     "metadata": {},
     "output_type": "display_data"
    },
    {
     "name": "stdout",
     "output_type": "stream",
     "text": [
      "AUROC data saved for train at epoch 10 to /Users/tykim/Desktop/work/SNU_2025_Deeplearning_project/logs/train_logs/train_auroc_data_epoch_10.json\n"
     ]
    },
    {
     "data": {
      "application/vnd.jupyter.widget-view+json": {
       "model_id": "12ffc7da8a0c45c884cb79dc4d760334",
       "version_major": 2,
       "version_minor": 0
      },
      "text/plain": [
       "Validating:   0%|          | 0/47 [00:00<?, ?it/s]"
      ]
     },
     "metadata": {},
     "output_type": "display_data"
    },
    {
     "name": "stdout",
     "output_type": "stream",
     "text": [
      "AUROC data saved for val at epoch 10 to /Users/tykim/Desktop/work/SNU_2025_Deeplearning_project/logs/train_logs/val_auroc_data_epoch_10.json\n",
      "[Epoch 10/10] Time: 1355.04s, Train Loss: 1.0207, Train Acc: 0.8680, Train Top-3: 0.9703, Train F1: 0.8685, Val Loss: 0.8060, Val Acc: 0.9613, Val Top-3: 0.9947, Val F1: 0.9615\n",
      "Checkpoint saved at /Users/tykim/Desktop/work/SNU_2025_Deeplearning_project/model/best_convnet_model.pth\n",
      "🎯 New best model saved! Composite Score: 0.8953\n",
      "{\n",
      "    \"epoch\": 10,\n",
      "    \"train_loss\": 1.020657292207082,\n",
      "    \"train_accuracy\": 0.868,\n",
      "    \"train_top3_accuracy\": 0.9703333333333334,\n",
      "    \"train_f1_score\": 0.8684805670909664,\n",
      "    \"train_auroc\": 0.983207302827381,\n",
      "    \"val_loss\": 0.8059612322360912,\n",
      "    \"val_accuracy\": 0.9613333333333334,\n",
      "    \"val_top3_accuracy\": 0.9946666666666667,\n",
      "    \"val_f1_score\": 0.9615020087057069,\n",
      "    \"val_auroc\": 0.9968790476190476,\n",
      "    \"composite_score\": 0.8953013261365799,\n",
      "    \"epoch_duration\": 1355.0363750457764,\n",
      "    \"timestamp\": \"2025-09-04 10:37:17.353515\"\n",
      "}\n"
     ]
    }
   ],
   "source": [
    "for epoch in range(EPOCHS):\n",
    "    start_time = time.time()  # 에포크 시작 시간 기록\n",
    "\n",
    "    # ===============================================\n",
    "    # Training\n",
    "    # ===============================================\n",
    "    train_metrics = train_one_epoch(\n",
    "        model=model,\n",
    "        train_loader=train_loader,\n",
    "        criterion=criterion,\n",
    "        optimizer=optimizer,\n",
    "        device=device,\n",
    "        scaler=scaler,\n",
    "        desc=f\"Training Epoch {epoch+1}/{EPOCHS}\",\n",
    "    )\n",
    "\n",
    "    train_losses.append(train_metrics[\"loss\"])\n",
    "    train_accuracies.append(train_metrics[\"accuracy\"])\n",
    "    train_top3_accuracies.append(train_metrics[\"top3_accuracy\"])\n",
    "    train_f1_scores.append(\n",
    "        calculate_f1_score(\n",
    "            torch.tensor(train_metrics[\"outputs\"]),\n",
    "            torch.tensor(train_metrics[\"labels\"]),\n",
    "        )\n",
    "    )\n",
    "    train_aurocs.append(\n",
    "        calculate_auroc(\n",
    "            torch.tensor(train_metrics[\"outputs\"]),\n",
    "            torch.tensor(train_metrics[\"labels\"]),\n",
    "        )\n",
    "    )\n",
    "    save_auroc_data(\n",
    "        train_metrics[\"outputs\"],\n",
    "        train_metrics[\"labels\"],\n",
    "        epoch + 1,\n",
    "        \"train\",\n",
    "        TRAIN_LOG_DIR,\n",
    "    )\n",
    "\n",
    "    # ===============================================\n",
    "    # Validation\n",
    "    # ===============================================\n",
    "    val_metrics = validation_one_epoch(\n",
    "        model=model,\n",
    "        val_loader=val_loader,\n",
    "        criterion=criterion,\n",
    "        device=device,\n",
    "        desc=\"Validating\",\n",
    "    )\n",
    "\n",
    "    val_losses.append(val_metrics[\"loss\"])\n",
    "    val_accuracies.append(val_metrics[\"accuracy\"])\n",
    "    val_top3_accuracies.append(val_metrics[\"top3_accuracy\"])\n",
    "    val_f1_scores.append(\n",
    "        calculate_f1_score(\n",
    "            torch.tensor(val_metrics[\"outputs\"]), torch.tensor(val_metrics[\"labels\"])\n",
    "        )\n",
    "    )\n",
    "    val_aurocs.append(\n",
    "        calculate_auroc(\n",
    "            torch.tensor(val_metrics[\"outputs\"]), torch.tensor(val_metrics[\"labels\"])\n",
    "        )\n",
    "    )\n",
    "    save_auroc_data(\n",
    "        val_metrics[\"outputs\"], val_metrics[\"labels\"], epoch + 1, \"val\", TRAIN_LOG_DIR\n",
    "    )\n",
    "\n",
    "    # Scheduler\n",
    "    scheduler.step()  # ReduceLROnPlateau 사용 시: scheduler.step(val_metrics[\"loss\"])\n",
    "\n",
    "    # 에포크 소요 시간 계산\n",
    "    end_time = time.time()\n",
    "    epoch_duration = end_time - start_time\n",
    "\n",
    "    # 에포크 결과 출력\n",
    "    print(\n",
    "        f\"[Epoch {epoch+1}/{EPOCHS}] \"\n",
    "        f\"Time: {epoch_duration:.2f}s, \"\n",
    "        f\"Train Loss: {train_losses[-1]:.4f}, Train Acc: {train_accuracies[-1]:.4f}, Train Top-3: {train_top3_accuracies[-1]:.4f}, Train F1: {train_f1_scores[-1]:.4f}, \"\n",
    "        f\"Val Loss: {val_losses[-1]:.4f}, Val Acc: {val_accuracies[-1]:.4f}, Val Top-3: {val_top3_accuracies[-1]:.4f}, Val F1: {val_f1_scores[-1]:.4f}\"\n",
    "    )\n",
    "\n",
    "    # 의료 이미지 분류에 최적화된 복합 점수 계산\n",
    "    composite_score = (\n",
    "        0.4 * val_accuracies[-1]  # 40% - 정확도 (가장 중요)\n",
    "        + 0.3 * val_aurocs[-1]  # 30% - AUROC (의료 분류에서 중요)\n",
    "        + 0.2 * val_f1_scores[-1]  # 20% - F1 Score (클래스 불균형 고려)\n",
    "        + 0.1 * (1 - val_losses[-1])  # 10% - Loss (낮을수록 좋음)\n",
    "    )\n",
    "\n",
    "    # 최고 성능 모델 저장\n",
    "    if composite_score > best_composite_score:\n",
    "        best_composite_score = composite_score\n",
    "        best_epoch = epoch + 1\n",
    "        early_stopping_counter = 0\n",
    "        save_checkpoint(\n",
    "            {\n",
    "                \"epoch\": epoch + 1,  # 현재 에포크\n",
    "                \"state_dict\": model.state_dict(),\n",
    "                \"optimizer_state_dict\": optimizer.state_dict(),\n",
    "                \"train_loss\": train_losses[-1],\n",
    "                \"train_accuracy\": train_accuracies[-1],\n",
    "                \"train_top3_accuracy\": train_top3_accuracies[-1],\n",
    "                \"train_f1_score\": train_f1_scores[-1],\n",
    "                \"train_auroc\": train_aurocs[-1],\n",
    "                \"val_loss\": val_losses[-1],\n",
    "                \"val_accuracy\": val_accuracies[-1],\n",
    "                \"val_top3_accuracy\": val_top3_accuracies[-1],\n",
    "                \"val_f1_score\": val_f1_scores[-1],\n",
    "                \"val_auroc\": val_aurocs[-1],\n",
    "                \"composite_score\": composite_score,\n",
    "                \"epoch_duration\": epoch_duration,\n",
    "            },\n",
    "            MODEL_DIR,\n",
    "            MODEL_FILE_NAME,\n",
    "        )\n",
    "        print(f\"🎯 New best model saved! Composite Score: {composite_score:.4f}\")\n",
    "    else:\n",
    "        early_stopping_counter += 1\n",
    "\n",
    "    if early_stopping_counter >= patience:\n",
    "        print(f\"Early stopping at epoch {epoch+1}. Best epoch was {best_epoch}.\")\n",
    "        break\n",
    "\n",
    "    # 로그 기록\n",
    "    logger.log(\n",
    "        {\n",
    "            \"epoch\": epoch + 1,\n",
    "            \"train_loss\": train_losses[-1],\n",
    "            \"train_accuracy\": train_accuracies[-1],\n",
    "            \"train_top3_accuracy\": train_top3_accuracies[-1],\n",
    "            \"train_f1_score\": train_f1_scores[-1],\n",
    "            \"train_auroc\": train_aurocs[-1],\n",
    "            \"val_loss\": val_losses[-1],\n",
    "            \"val_accuracy\": val_accuracies[-1],\n",
    "            \"val_top3_accuracy\": val_top3_accuracies[-1],\n",
    "            \"val_f1_score\": val_f1_scores[-1],\n",
    "            \"val_auroc\": val_aurocs[-1],\n",
    "            \"composite_score\": composite_score,\n",
    "            \"epoch_duration\": epoch_duration,\n",
    "        }\n",
    "    )"
   ]
  },
  {
   "cell_type": "code",
   "execution_count": 10,
   "id": "bbfa52fd",
   "metadata": {},
   "outputs": [
    {
     "name": "stdout",
     "output_type": "stream",
     "text": [
      "Log saved to /Users/tykim/Desktop/work/SNU_2025_Deeplearning_project/logs/train_log.json\n",
      "Training completed at 2025-09-04 10:37:17\n",
      "Total training time: 29009.64s\n"
     ]
    }
   ],
   "source": [
    "# 로그 저장\n",
    "logger.save()\n",
    "\n",
    "# 학습 종료 시간\n",
    "total_end_time = time.time()\n",
    "total_duration = total_end_time - total_start_time\n",
    "print(\n",
    "    f\"Training completed at {time.strftime('%Y-%m-%d %H:%M:%S', time.localtime(total_end_time))}\"\n",
    ")\n",
    "print(f\"Total training time: {total_duration:.2f}s\")"
   ]
  },
  {
   "cell_type": "markdown",
   "id": "b5d6f40e",
   "metadata": {},
   "source": [
    "# 7. Test 검증"
   ]
  },
  {
   "cell_type": "code",
   "execution_count": 11,
   "id": "911c25d7",
   "metadata": {},
   "outputs": [
    {
     "name": "stdout",
     "output_type": "stream",
     "text": [
      "Checkpoint keys: ['epoch', 'state_dict', 'optimizer_state_dict', 'train_loss', 'train_accuracy', 'train_top3_accuracy', 'train_f1_score', 'train_auroc', 'val_loss', 'val_accuracy', 'val_top3_accuracy', 'val_f1_score', 'val_auroc', 'composite_score', 'epoch_duration']\n",
      "State dict keys (first 10): ['features.0.weight', 'features.0.bias', 'features.1.weight', 'features.1.bias', 'features.1.running_mean', 'features.1.running_var', 'features.1.num_batches_tracked', 'features.4.weight', 'features.4.bias', 'features.5.weight']\n"
     ]
    }
   ],
   "source": [
    "# 체크포인트 로드\n",
    "checkpoint = torch.load(os.path.join(MODEL_DIR, MODEL_FILE_NAME), weights_only=False)\n",
    "\n",
    "# 체크포인트의 키들 확인\n",
    "print(\"Checkpoint keys:\", list(checkpoint.keys()))\n",
    "print(\"State dict keys (first 10):\", list(checkpoint[\"state_dict\"].keys())[:10])"
   ]
  },
  {
   "cell_type": "code",
   "execution_count": 12,
   "id": "423a0269",
   "metadata": {},
   "outputs": [
    {
     "data": {
      "application/vnd.jupyter.widget-view+json": {
       "model_id": "656cecdf513f48509aa4c53237c4bf61",
       "version_major": 2,
       "version_minor": 0
      },
      "text/plain": [
       "Testing:   0%|          | 0/47 [00:00<?, ?it/s]"
      ]
     },
     "metadata": {},
     "output_type": "display_data"
    },
    {
     "name": "stdout",
     "output_type": "stream",
     "text": [
      "\n",
      "============================================================\n",
      "ConvNet - Final Test Results\n",
      "============================================================\n",
      "Test Loss: 0.8060\n",
      "Test Accuracy (Top-1): 0.9613\n",
      "Test Accuracy (Top-3): 0.9947\n",
      "Test F1-Score: 0.9615\n",
      "Test AUROC: 0.9969\n",
      "============================================================\n"
     ]
    }
   ],
   "source": [
    "# 모델 생성 (기존 모델 정의 코드 필요)\n",
    "model = create_model()\n",
    "\n",
    "# 체크포인트에서 가중치 로드\n",
    "model.load_state_dict(checkpoint[\"state_dict\"])\n",
    "\n",
    "# 평가 실행\n",
    "results = evaluate_test_set(model, test_loader, criterion, device)\n",
    "print_test_results(results, \"ConvNet\")"
   ]
  },
  {
   "cell_type": "code",
   "execution_count": null,
   "id": "49de2261",
   "metadata": {},
   "outputs": [],
   "source": []
  }
 ],
 "metadata": {
  "kernelspec": {
   "display_name": "taeya_python_env3.13",
   "language": "python",
   "name": "taeya_python_env3.13"
  },
  "language_info": {
   "codemirror_mode": {
    "name": "ipython",
    "version": 3
   },
   "file_extension": ".py",
   "mimetype": "text/x-python",
   "name": "python",
   "nbconvert_exporter": "python",
   "pygments_lexer": "ipython3",
   "version": "3.13.5"
  }
 },
 "nbformat": 4,
 "nbformat_minor": 5
}
